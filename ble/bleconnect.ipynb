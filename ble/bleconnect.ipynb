{
 "cells": [
  {
   "cell_type": "markdown",
   "id": "bf97327f-90e2-4c81-9525-88421520585f",
   "metadata": {},
   "source": [
    "import asyncio\n",
    "from bleak import BleakScanner\n",
    "\n",
    "async def main():\n",
    "    devices = await BleakScanner.discover()\n",
    "    for d in devices:\n",
    "        print(d)\n",
    "        \n",
    "try:\n",
    "    loop = asyncio.get_running_loop()\n",
    "except RuntimeError:\n",
    "    loop = None\n",
    "\n",
    "if loop and loop.is_running():\n",
    "    print('Async event loop already running. Adding coroutine to the event loop.')\n",
    "    tsk = loop.create_task(main())\n",
    "    tsk.add_done_callback(\n",
    "        lambda t: print(f'Task done with result = {t.result()} << return val of main()'))\n",
    "else:\n",
    "    print('Starting new event loop')\n",
    "    asyncio.run(main())"
   ]
  },
  {
   "cell_type": "code",
   "execution_count": 30,
   "id": "b0045892-b911-4da1-b1c8-2298fccc1e0e",
   "metadata": {},
   "outputs": [
    {
     "name": "stdout",
     "output_type": "stream",
     "text": [
      "Async event loop already running. Adding coroutine to the event loop.\n"
     ]
    },
    {
     "name": "stderr",
     "output_type": "stream",
     "text": [
      "ERROR:asyncio:Exception in callback <lambda>(<Task finishe...s not found')>) at /var/folders/fx/5gyl_pgs2094_xlx9szcscp00000gn/T/ipykernel_2593/377561025.py:31\n",
      "handle: <Handle <lambda>(<Task finishe...s not found')>) at /var/folders/fx/5gyl_pgs2094_xlx9szcscp00000gn/T/ipykernel_2593/377561025.py:31>\n",
      "Traceback (most recent call last):\n",
      "  File \"/Users/csabakoos/opt/anaconda3/lib/python3.9/asyncio/events.py\", line 80, in _run\n",
      "    self._context.run(self._callback, *self._args)\n",
      "  File \"/var/folders/fx/5gyl_pgs2094_xlx9szcscp00000gn/T/ipykernel_2593/377561025.py\", line 31, in <lambda>\n",
      "    lambda t: print(f'Task done with result = {t.result()} << return val of main()'))\n",
      "  File \"/var/folders/fx/5gyl_pgs2094_xlx9szcscp00000gn/T/ipykernel_2593/377561025.py\", line 18, in main\n",
      "    async with BleakClient(address) as client:\n",
      "  File \"/Users/csabakoos/opt/anaconda3/lib/python3.9/site-packages/bleak/backends/client.py\", line 61, in __aenter__\n",
      "    await self.connect()\n",
      "  File \"/Users/csabakoos/opt/anaconda3/lib/python3.9/site-packages/bleak/backends/corebluetooth/client.py\", line 86, in connect\n",
      "    raise BleakError(\n",
      "bleak.exc.BleakError: Device with address 30:c6:f7:2f:27:30 was not found\n"
     ]
    }
   ],
   "source": [
    "import sys\n",
    "import platform\n",
    "import asyncio\n",
    "import logging\n",
    "\n",
    "from bleak import BleakClient\n",
    "\n",
    "logger = logging.getLogger(__name__)\n",
    "UUID = \"6E400001-B5A3-F393-E0A9-E50E24DCCA9E\"\n",
    "ADDRESS = \"30:c6:f7:2f:27:30\"\n",
    "\n",
    "def notification_handler(sender, data):\n",
    "    \"\"\"Simple notification handler which prints the data received.\"\"\"\n",
    "    output_numbers = list(data)\n",
    "    print(output_numbers)\n",
    "\n",
    "async def main(address):\n",
    "    async with BleakClient(address) as client:\n",
    "        await client.start_notify(UUID, notification_handler)\n",
    "        await asyncio.sleep(10.0)\n",
    "        await client.stop_notify(UUID)\n",
    "try:\n",
    "    loop = asyncio.get_running_loop()\n",
    "except RuntimeError:\n",
    "    loop = None\n",
    "\n",
    "if loop and loop.is_running():\n",
    "    print('Async event loop already running. Adding coroutine to the event loop.')\n",
    "    tsk = loop.create_task(main(ADDRESS))\n",
    "    tsk.add_done_callback(\n",
    "        lambda t: print(f'Task done with result = {t.result()} << return val of main()'))"
   ]
  },
  {
   "cell_type": "code",
   "execution_count": 32,
   "id": "d5fd2c38-d02a-48fc-b5e7-0d27ca967d96",
   "metadata": {},
   "outputs": [
    {
     "name": "stdout",
     "output_type": "stream",
     "text": [
      "/dev/cu.wlan-debug - n/a\n",
      "/dev/cu.Bluetooth-Incoming-Port - n/a\n",
      "/dev/cu.usbserial-0001 - CP2102 USB to UART Bridge Controller\n"
     ]
    }
   ],
   "source": [
    "import serial.tools.list_ports\n",
    "\n",
    "ports = serial.tools.list_ports.comports()\n",
    "serialInst = serial.Serial()\n",
    "\n",
    "portList = []\n",
    "\n",
    "for port in ports:\n",
    "    portList.append(str(port))\n",
    "    print(str(port))"
   ]
  },
  {
   "cell_type": "code",
   "execution_count": null,
   "id": "cea9824d-80c1-4932-983d-ec11136b2c1d",
   "metadata": {},
   "outputs": [],
   "source": []
  }
 ],
 "metadata": {
  "kernelspec": {
   "display_name": "Python 3 (ipykernel)",
   "language": "python",
   "name": "python3"
  },
  "language_info": {
   "codemirror_mode": {
    "name": "ipython",
    "version": 3
   },
   "file_extension": ".py",
   "mimetype": "text/x-python",
   "name": "python",
   "nbconvert_exporter": "python",
   "pygments_lexer": "ipython3",
   "version": "3.9.7"
  }
 },
 "nbformat": 4,
 "nbformat_minor": 5
}
