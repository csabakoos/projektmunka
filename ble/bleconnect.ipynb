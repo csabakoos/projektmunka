{
 "cells": [
  {
   "cell_type": "code",
   "execution_count": 1,
   "id": "b9574974-3065-4ee5-9d79-17861a27a1ba",
   "metadata": {},
   "outputs": [
    {
     "name": "stdout",
     "output_type": "stream",
     "text": [
      "Async event loop already running. Adding coroutine to the event loop.\n",
      "51:7E:52:84:9E:A9: [LG] webOS TV UJ6307\n",
      "49:87:16:50:6F:29: Apple, Inc. (b'\\x0c\\x0e\\x00E\\x10%)\\xa9\\xd0G\\xcb\\x10x\\x86T\\xeb\\x10\\x05\\x08\\x1ctO(')\n",
      "56:6C:DF:E2:18:66: Apple, Inc. (b'\\x0c\\x0e\\x00E\\x10%)\\xa9\\xd0G\\xcb\\x10x\\x86T\\xeb\\x10\\x05\\x08\\x1ctO(')\n",
      "47:82:EB:B9:BE:A3: Apple, Inc. (b'\\x10\\x05 \\x1c\\x1e\\xc8\\xac')\n",
      "28:26:8A:F7:33:99: Apple, Inc. (b'\\t\\x06\\x03\\x01\\xc0\\xa8\\x00\\x13')\n",
      "6E:8C:1D:8C:94:59: Google (b'\\x00\\x10\\xca\\x94\\x0em')\n",
      "70:4A:0E:8B:2D:5B: Unknown\n",
      "30:C6:F7:2F:27:32: mpy-uart\n",
      "78:BD:BC:DB:09:B1: Samsung Electronics Co. Ltd. (b'B\\x04\\x01\\x01\\x8fx\\xbd\\xbc\\xdb\\t\\xb1\\xfe\\xf161}\"\\x06\\x00\\x00\\x00\\x00\\x00\\x00')\n"
     ]
    }
   ],
   "source": [
    "import asyncio\n",
    "from bleak import BleakScanner\n",
    "\n",
    "async def main():\n",
    "    devices = await BleakScanner.discover()\n",
    "    for d in devices:\n",
    "        print(d)\n",
    "        \n",
    "try:\n",
    "    loop = asyncio.get_running_loop()\n",
    "except RuntimeError:\n",
    "    loop = None\n",
    "\n",
    "if loop and loop.is_running():\n",
    "    print('Async event loop already running. Adding coroutine to the event loop.')\n",
    "    tsk = loop.create_task(main())\n",
    "else:\n",
    "    print('Starting new event loop')\n",
    "    asyncio.run(main())"
   ]
  },
  {
   "cell_type": "code",
   "execution_count": 4,
   "id": "9fc66ea8-eab1-4dff-a50f-366b331621e0",
   "metadata": {
    "tags": []
   },
   "outputs": [
    {
     "name": "stderr",
     "output_type": "stream",
     "text": [
      "Task exception was never retrieved\n",
      "future: <Task finished name='Task-7' coro=<scan() done, defined at C:\\Users\\I542827\\AppData\\Local\\Temp/ipykernel_7864/1221396701.py:13> exception=BleakError('Could not get GATT services: Unreachable')>\n",
      "Traceback (most recent call last):\n",
      "  File \"C:\\Users\\I542827\\AppData\\Local\\Temp/ipykernel_7864/1221396701.py\", line 17, in scan\n",
      "    async with BleakClient(device) as client:\n",
      "  File \"C:\\Users\\I542827\\Anaconda3\\lib\\site-packages\\bleak\\backends\\client.py\", line 61, in __aenter__\n",
      "    await self.connect()\n",
      "  File \"C:\\Users\\I542827\\Anaconda3\\lib\\site-packages\\bleak\\backends\\winrt\\client.py\", line 275, in connect\n",
      "    await self.get_services()\n",
      "  File \"C:\\Users\\I542827\\Anaconda3\\lib\\site-packages\\bleak\\backends\\winrt\\client.py\", line 445, in get_services\n",
      "    services: Sequence[GattDeviceService] = _ensure_success(\n",
      "  File \"C:\\Users\\I542827\\Anaconda3\\lib\\site-packages\\bleak\\backends\\winrt\\client.py\", line 104, in _ensure_success\n",
      "    raise BleakError(f\"{fail_msg}: Unreachable\")\n",
      "bleak.exc.BleakError: Could not get GATT services: Unreachable\n"
     ]
    },
    {
     "name": "stdout",
     "output_type": "stream",
     "text": [
      "Async event loop already running. Adding coroutine to the event loop.\n"
     ]
    }
   ],
   "source": [
    "import asyncio, platform, sys, time\n",
    "from bleak import BleakClient, BleakScanner\n",
    "from bleak.exc import BleakError\n",
    "\n",
    "\n",
    "ADDRESS = (\n",
    "    \"30:C6:F7:2F:27:32\"\n",
    "    if platform.system() != \"Darwin\"\n",
    "    else \"1016407A-D89D-907C-F7C3-0C6B31A3B400\"\n",
    ")\n",
    "\n",
    "\n",
    "async def darwin(ble_address: str):\n",
    "    device = await BleakScanner.find_device_by_address(ble_address, timeout=20.0)\n",
    "    if not device:\n",
    "        raise BleakError(f\"A device with address {ble_address} could not be found.\")\n",
    "    async with BleakClient(device) as client:\n",
    "        svcs = await client.get_services()\n",
    "        print(\"Services:\")\n",
    "        for service in svcs:\n",
    "            print(service)\n",
    "\n",
    "async def main(ble_address: str):\n",
    "    device = await BleakScanner.find_device_by_address(ble_address, timeout=20.0)\n",
    "    if not device:\n",
    "        raise BleakError(f\"A device with address {ble_address} could not be found.\")\n",
    "    async with BleakClient(device) as client:\n",
    "        svcs = await client.get_services()\n",
    "        print(\"Services:\")\n",
    "        for service in svcs:\n",
    "            print(service)\n",
    "        print(\"Pairing...\")\n",
    "        await client.pair()\n",
    "        print(\"Paired!\")\n",
    "        while client.is_connected():\n",
    "            print(\"Connected\")\n",
    "            res = client.read_gatt_char()\n",
    "            time.sleep(1)\n",
    "        print(\"Disconnected!\")\n",
    "\n",
    "try:\n",
    "    loop = asyncio.get_running_loop()\n",
    "except RuntimeError:\n",
    "    loop = None\n",
    "\n",
    "if loop and loop.is_running():\n",
    "    print('Async event loop already running. Adding coroutine to the event loop.')\n",
    "    if platform.system() != \"Darwin\":\n",
    "        tsk = loop.create_task(main(ADDRESS))\n",
    "    else:\n",
    "        tsk = loop.create_task(darwin(ADDRESS))\n"
   ]
  },
  {
   "cell_type": "code",
   "execution_count": null,
   "id": "7c078278-97c1-4b8d-98d3-49f8ab7e7490",
   "metadata": {},
   "outputs": [],
   "source": []
  }
 ],
 "metadata": {
  "kernelspec": {
   "display_name": "Python 3 (ipykernel)",
   "language": "python",
   "name": "python3"
  },
  "language_info": {
   "codemirror_mode": {
    "name": "ipython",
    "version": 3
   },
   "file_extension": ".py",
   "mimetype": "text/x-python",
   "name": "python",
   "nbconvert_exporter": "python",
   "pygments_lexer": "ipython3",
   "version": "3.9.7"
  }
 },
 "nbformat": 4,
 "nbformat_minor": 5
}
