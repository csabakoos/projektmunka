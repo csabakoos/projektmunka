{
 "cells": [
  {
   "cell_type": "code",
   "execution_count": null,
   "id": "b9574974-3065-4ee5-9d79-17861a27a1ba",
   "metadata": {},
   "outputs": [],
   "source": [
    "import asyncio\n",
    "from bleak import BleakScanner\n",
    "\n",
    "async def main():\n",
    "    devices = await BleakScanner.discover()\n",
    "    for d in devices:\n",
    "        print(d)\n",
    "        \n",
    "try:\n",
    "    loop = asyncio.get_running_loop()\n",
    "except RuntimeError:\n",
    "    loop = None\n",
    "\n",
    "if loop and loop.is_running():\n",
    "    print('Async event loop already running. Adding coroutine to the event loop.')\n",
    "    tsk = loop.create_task(main())\n",
    "else:\n",
    "    print('Starting new event loop')\n",
    "    asyncio.run(main())"
   ]
  },
  {
   "cell_type": "code",
   "execution_count": 1,
   "id": "9fc66ea8-eab1-4dff-a50f-366b331621e0",
   "metadata": {
    "scrolled": true,
    "tags": []
   },
   "outputs": [
    {
     "name": "stdout",
     "output_type": "stream",
     "text": [
      "Async event loop already running. Adding coroutine to the event loop.\n",
      "Services:\n",
      "6e400001-b5a3-f393-e0a9-e50e24dcca9e (Handle: 19): Nordic UART Service\n"
     ]
    }
   ],
   "source": [
    "import asyncio\n",
    "import platform\n",
    "import sys\n",
    "from bleak import BleakClient, BleakScanner\n",
    "from bleak.exc import BleakError\n",
    "\n",
    "\n",
    "ADDRESS = \"1016407A-D89D-907C-F7C3-0C6B31A3B400\"\n",
    "\n",
    "async def main(ble_address: str):\n",
    "    device = await BleakScanner.find_device_by_address(ble_address, timeout=20.0)\n",
    "    if not device:\n",
    "        raise BleakError(f\"A device with address {ble_address} could not be found.\")\n",
    "    async with BleakClient(device) as client:\n",
    "        svcs = await client.get_services()\n",
    "        print(\"Services:\")\n",
    "        for service in svcs:\n",
    "            print(service)\n",
    "\n",
    "try:\n",
    "    loop = asyncio.get_running_loop()\n",
    "except RuntimeError:\n",
    "    loop = None\n",
    "\n",
    "if loop and loop.is_running():\n",
    "    print('Async event loop already running. Adding coroutine to the event loop.')\n",
    "    tsk = loop.create_task(main(ADDRESS))\n"
   ]
  },
  {
   "cell_type": "code",
   "execution_count": null,
   "id": "5ddb920a-e2e5-4d98-97ed-a82eee6bd02a",
   "metadata": {},
   "outputs": [],
   "source": []
  }
 ],
 "metadata": {
  "kernelspec": {
   "display_name": "Python 3 (ipykernel)",
   "language": "python",
   "name": "python3"
  },
  "language_info": {
   "codemirror_mode": {
    "name": "ipython",
    "version": 3
   },
   "file_extension": ".py",
   "mimetype": "text/x-python",
   "name": "python",
   "nbconvert_exporter": "python",
   "pygments_lexer": "ipython3",
   "version": "3.9.7"
  }
 },
 "nbformat": 4,
 "nbformat_minor": 5
}
