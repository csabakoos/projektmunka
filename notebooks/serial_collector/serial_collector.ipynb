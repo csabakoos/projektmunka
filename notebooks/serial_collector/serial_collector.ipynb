{
 "cells": [
  {
   "cell_type": "markdown",
   "id": "467e09c6-dda6-4d7d-88a9-243f015aefcb",
   "metadata": {},
   "source": [
    "# Serial Monitor Data Collector\n",
    "\n",
    "This python scripts below will monitor the given serial port. From that given port it will continously collects the seen data and then saves it in a usable .csv file for us. This is how we collect the necessary sign data from the gloves for our model's training data."
   ]
  },
  {
   "cell_type": "markdown",
   "id": "04d56824-e098-4391-bccc-d01a99ed38da",
   "metadata": {},
   "source": [
    "### COM port scanning\n",
    "\n",
    "This part executes a routine port scan that will print out the available COM ports to chose from."
   ]
  },
  {
   "cell_type": "code",
   "execution_count": null,
   "id": "629cdfab-943d-432f-a8ca-8408e55492cd",
   "metadata": {},
   "outputs": [],
   "source": [
    "import sys\n",
    "import glob\n",
    "import serial\n",
    "\n",
    "def serial_ports():\n",
    "    \"\"\" Lists serial port names\n",
    "\n",
    "        :raises EnvironmentError:\n",
    "            On unsupported or unknown platforms\n",
    "        :returns:\n",
    "            A list of the serial ports available on the system\n",
    "    \"\"\"\n",
    "    if sys.platform.startswith('win'):\n",
    "        ports = ['COM%s' % (i + 1) for i in range(256)]\n",
    "    elif sys.platform.startswith('linux') or sys.platform.startswith('cygwin'):\n",
    "        # this excludes your current terminal \"/dev/tty\"\n",
    "        ports = glob.glob('/dev/tty[A-Za-z]*')\n",
    "    elif sys.platform.startswith('darwin'):\n",
    "        ports = glob.glob('/dev/tty.*')\n",
    "    else:\n",
    "        raise EnvironmentError('Unsupported platform')\n",
    "\n",
    "    result = []\n",
    "    for port in ports:\n",
    "        try:\n",
    "            s = serial.Serial(port)\n",
    "            s.close()\n",
    "            result.append(port)\n",
    "        except (OSError, serial.SerialException):\n",
    "            pass\n",
    "    return result\n",
    "\n",
    "print(serial_ports())"
   ]
  },
  {
   "cell_type": "markdown",
   "id": "25d8b7b4-5eff-44e2-baf0-9210c351137c",
   "metadata": {},
   "source": [
    "### Connecting to the COM port & .csv file creation\n",
    "\n",
    "Below, the serial connection will be established for the given parameters. Also the .csv file will be created initially."
   ]
  },
  {
   "cell_type": "code",
   "execution_count": null,
   "id": "4c8acb74-1636-4539-ba09-e314f08f4960",
   "metadata": {},
   "outputs": [],
   "source": [
    "import serial\n",
    "import csv\n",
    "\n",
    "esp32_port = \"/dev/tty.usbserial-0001\" # The used COM port of the ESP32.\n",
    "baud_rate = 112500 # The ESP32 runs at 112500 baud rate (can be changed if necessary).\n",
    "file_name=\"collected_data.csv\" # The name of the .csv file to be generated.\n",
    "\n",
    "ser = serial.Serial(esp32_port, baud_rate)\n",
    "print(\"Connected to ESP32 on port:\" + esp32_port)\n",
    "file = open(file_name, \"a\")\n",
    "print(\"Created file\")"
   ]
  },
  {
   "cell_type": "markdown",
   "id": "6c42ca38-900d-4b68-9c0c-fecf55c6eb6a",
   "metadata": {},
   "source": [
    "### Reading serial COM port\n",
    "\n",
    "Continously monitoring the serial connection on the given port and while the connection exists and data is being retrieved from it to a local collection."
   ]
  },
  {
   "cell_type": "code",
   "execution_count": null,
   "id": "ae95bf21-5745-456f-b180-2c8e470cb89a",
   "metadata": {
    "scrolled": true,
    "tags": []
   },
   "outputs": [],
   "source": [
    "sensor_data = [] #store data\n",
    "\n",
    "# Collect the samples.\n",
    "while True:\n",
    "    raw_data = ser.readline()\n",
    "    data_string = raw_data.decode('utf-8')\n",
    "    data = data_string[0:][:-2]\n",
    "    print(data)\n",
    "    readings = data.split(\",\")\n",
    "    sensor_data.append(readings)"
   ]
  },
  {
   "cell_type": "markdown",
   "id": "4a040c4b-d74e-460d-8f6e-c1ba87854f55",
   "metadata": {},
   "source": [
    "### Saving data to the .csv file\n",
    "\n",
    "The collected data is being written to the created .csv file, hence completing the data collection from the serial port."
   ]
  },
  {
   "cell_type": "code",
   "execution_count": null,
   "id": "dc83a514-7693-4f6f-85e5-ec63b110768a",
   "metadata": {},
   "outputs": [],
   "source": [
    "with open(file_name, 'w', encoding='UTF8', newline='') as f:\n",
    "    writer = csv.writer(f)\n",
    "    writer.writerows(sensor_data)\n",
    "\n",
    "print(\"Data collection complete!\")\n",
    "file.close()"
   ]
  },
  {
   "cell_type": "code",
   "execution_count": null,
   "id": "328be4ae-13cd-471e-83c0-2ea06223f182",
   "metadata": {},
   "outputs": [],
   "source": []
  }
 ],
 "metadata": {
  "kernelspec": {
   "display_name": "Python 3 (ipykernel)",
   "language": "python",
   "name": "python3"
  },
  "language_info": {
   "codemirror_mode": {
    "name": "ipython",
    "version": 3
   },
   "file_extension": ".py",
   "mimetype": "text/x-python",
   "name": "python",
   "nbconvert_exporter": "python",
   "pygments_lexer": "ipython3",
   "version": "3.9.7"
  }
 },
 "nbformat": 4,
 "nbformat_minor": 5
}
