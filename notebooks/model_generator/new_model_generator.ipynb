{
 "cells": [
  {
   "cell_type": "code",
   "execution_count": 242,
   "metadata": {},
   "outputs": [],
   "source": [
    "import tensorflow as tf\n",
    "from tensorflow.keras.models import Sequential\n",
    "from tensorflow.keras.layers import Dense, Flatten\n",
    "from keras.utils import to_categorical\n",
    "from tensorflow.keras import Input\n",
    "from tensorflow.data import Dataset\n",
    "import pandas as pd\n",
    "import numpy as np\n",
    "import itertools\n",
    "import csv\n",
    "from sklearn import metrics\n",
    "from sklearn.model_selection import train_test_split\n",
    "from sklearn.preprocessing import StandardScaler, LabelEncoder\n",
    "import matplotlib.pyplot as plt"
   ]
  },
  {
   "cell_type": "code",
   "execution_count": 243,
   "metadata": {},
   "outputs": [
    {
     "data": {
      "text/plain": [
       "527"
      ]
     },
     "execution_count": 243,
     "metadata": {},
     "output_type": "execute_result"
    }
   ],
   "source": [
    "df = pd.read_csv('new_way.csv')\n",
    "df['action'].count()"
   ]
  },
  {
   "cell_type": "code",
   "execution_count": 244,
   "metadata": {},
   "outputs": [],
   "source": [
    "x = df.drop('action',axis=1)\n",
    "y = df.action"
   ]
  },
  {
   "cell_type": "code",
   "execution_count": 245,
   "metadata": {},
   "outputs": [
    {
     "data": {
      "text/plain": [
       "0       fel\n",
       "1       fel\n",
       "2       fel\n",
       "3       fel\n",
       "4       fel\n",
       "       ... \n",
       "522    zero\n",
       "523    zero\n",
       "524    zero\n",
       "525    zero\n",
       "526    zero\n",
       "Name: action, Length: 527, dtype: object"
      ]
     },
     "execution_count": 245,
     "metadata": {},
     "output_type": "execute_result"
    }
   ],
   "source": [
    "y"
   ]
  },
  {
   "cell_type": "code",
   "execution_count": 246,
   "metadata": {},
   "outputs": [
    {
     "data": {
      "text/html": [
       "<div>\n",
       "<style scoped>\n",
       "    .dataframe tbody tr th:only-of-type {\n",
       "        vertical-align: middle;\n",
       "    }\n",
       "\n",
       "    .dataframe tbody tr th {\n",
       "        vertical-align: top;\n",
       "    }\n",
       "\n",
       "    .dataframe thead th {\n",
       "        text-align: right;\n",
       "    }\n",
       "</style>\n",
       "<table border=\"1\" class=\"dataframe\">\n",
       "  <thead>\n",
       "    <tr style=\"text-align: right;\">\n",
       "      <th></th>\n",
       "      <th>action</th>\n",
       "      <th>x1</th>\n",
       "      <th>y1</th>\n",
       "      <th>z1</th>\n",
       "      <th>x2</th>\n",
       "      <th>y2</th>\n",
       "      <th>z2</th>\n",
       "      <th>x3</th>\n",
       "      <th>y3</th>\n",
       "      <th>z3</th>\n",
       "      <th>x4</th>\n",
       "      <th>y4</th>\n",
       "      <th>z4</th>\n",
       "      <th>x5</th>\n",
       "      <th>y5</th>\n",
       "      <th>z5</th>\n",
       "      <th>label</th>\n",
       "    </tr>\n",
       "  </thead>\n",
       "  <tbody>\n",
       "    <tr>\n",
       "      <th>0</th>\n",
       "      <td>fel</td>\n",
       "      <td>-381.349396</td>\n",
       "      <td>-269.253387</td>\n",
       "      <td>-116.813377</td>\n",
       "      <td>-45.249886</td>\n",
       "      <td>-256.332245</td>\n",
       "      <td>-89.417160</td>\n",
       "      <td>150.056244</td>\n",
       "      <td>-87.576866</td>\n",
       "      <td>42.188335</td>\n",
       "      <td>242.867905</td>\n",
       "      <td>18.962461</td>\n",
       "      <td>76.399940</td>\n",
       "      <td>428.462341</td>\n",
       "      <td>293.971802</td>\n",
       "      <td>641.771301</td>\n",
       "      <td>1</td>\n",
       "    </tr>\n",
       "    <tr>\n",
       "      <th>1</th>\n",
       "      <td>fel</td>\n",
       "      <td>-376.021545</td>\n",
       "      <td>-272.967926</td>\n",
       "      <td>-133.821198</td>\n",
       "      <td>-61.291061</td>\n",
       "      <td>-241.356766</td>\n",
       "      <td>-93.077553</td>\n",
       "      <td>143.094406</td>\n",
       "      <td>-77.135376</td>\n",
       "      <td>34.819637</td>\n",
       "      <td>215.708588</td>\n",
       "      <td>6.728501</td>\n",
       "      <td>58.470631</td>\n",
       "      <td>418.830933</td>\n",
       "      <td>280.534210</td>\n",
       "      <td>641.699524</td>\n",
       "      <td>1</td>\n",
       "    </tr>\n",
       "    <tr>\n",
       "      <th>2</th>\n",
       "      <td>fel</td>\n",
       "      <td>-371.472626</td>\n",
       "      <td>-270.972260</td>\n",
       "      <td>-142.165512</td>\n",
       "      <td>-33.497070</td>\n",
       "      <td>-232.640335</td>\n",
       "      <td>-80.189026</td>\n",
       "      <td>160.922134</td>\n",
       "      <td>-66.725060</td>\n",
       "      <td>54.446323</td>\n",
       "      <td>238.968887</td>\n",
       "      <td>23.842035</td>\n",
       "      <td>79.471870</td>\n",
       "      <td>418.830933</td>\n",
       "      <td>280.534210</td>\n",
       "      <td>641.699524</td>\n",
       "      <td>1</td>\n",
       "    </tr>\n",
       "    <tr>\n",
       "      <th>3</th>\n",
       "      <td>fel</td>\n",
       "      <td>-391.170746</td>\n",
       "      <td>-288.454712</td>\n",
       "      <td>-141.190826</td>\n",
       "      <td>-53.679672</td>\n",
       "      <td>-241.145935</td>\n",
       "      <td>-96.715271</td>\n",
       "      <td>129.194000</td>\n",
       "      <td>-86.305061</td>\n",
       "      <td>32.738186</td>\n",
       "      <td>215.872284</td>\n",
       "      <td>5.572473</td>\n",
       "      <td>62.609039</td>\n",
       "      <td>418.830933</td>\n",
       "      <td>280.534210</td>\n",
       "      <td>641.699524</td>\n",
       "      <td>1</td>\n",
       "    </tr>\n",
       "    <tr>\n",
       "      <th>4</th>\n",
       "      <td>fel</td>\n",
       "      <td>-397.024536</td>\n",
       "      <td>-299.664978</td>\n",
       "      <td>-151.170349</td>\n",
       "      <td>-70.518257</td>\n",
       "      <td>-250.302734</td>\n",
       "      <td>-106.209557</td>\n",
       "      <td>120.442680</td>\n",
       "      <td>-91.443016</td>\n",
       "      <td>24.323040</td>\n",
       "      <td>206.199936</td>\n",
       "      <td>-0.270382</td>\n",
       "      <td>53.590782</td>\n",
       "      <td>418.830933</td>\n",
       "      <td>280.534210</td>\n",
       "      <td>641.699524</td>\n",
       "      <td>1</td>\n",
       "    </tr>\n",
       "    <tr>\n",
       "      <th>...</th>\n",
       "      <td>...</td>\n",
       "      <td>...</td>\n",
       "      <td>...</td>\n",
       "      <td>...</td>\n",
       "      <td>...</td>\n",
       "      <td>...</td>\n",
       "      <td>...</td>\n",
       "      <td>...</td>\n",
       "      <td>...</td>\n",
       "      <td>...</td>\n",
       "      <td>...</td>\n",
       "      <td>...</td>\n",
       "      <td>...</td>\n",
       "      <td>...</td>\n",
       "      <td>...</td>\n",
       "      <td>...</td>\n",
       "      <td>...</td>\n",
       "    </tr>\n",
       "    <tr>\n",
       "      <th>522</th>\n",
       "      <td>zero</td>\n",
       "      <td>0.000000</td>\n",
       "      <td>0.000000</td>\n",
       "      <td>0.000000</td>\n",
       "      <td>0.000000</td>\n",
       "      <td>0.000000</td>\n",
       "      <td>0.000000</td>\n",
       "      <td>0.000000</td>\n",
       "      <td>0.000000</td>\n",
       "      <td>0.000000</td>\n",
       "      <td>0.000000</td>\n",
       "      <td>0.000000</td>\n",
       "      <td>0.000000</td>\n",
       "      <td>0.000000</td>\n",
       "      <td>0.000000</td>\n",
       "      <td>0.000000</td>\n",
       "      <td>3</td>\n",
       "    </tr>\n",
       "    <tr>\n",
       "      <th>523</th>\n",
       "      <td>zero</td>\n",
       "      <td>0.000000</td>\n",
       "      <td>0.000000</td>\n",
       "      <td>0.000000</td>\n",
       "      <td>0.000000</td>\n",
       "      <td>0.000000</td>\n",
       "      <td>0.000000</td>\n",
       "      <td>0.000000</td>\n",
       "      <td>0.000000</td>\n",
       "      <td>0.000000</td>\n",
       "      <td>0.000000</td>\n",
       "      <td>0.000000</td>\n",
       "      <td>0.000000</td>\n",
       "      <td>0.000000</td>\n",
       "      <td>0.000000</td>\n",
       "      <td>0.000000</td>\n",
       "      <td>3</td>\n",
       "    </tr>\n",
       "    <tr>\n",
       "      <th>524</th>\n",
       "      <td>zero</td>\n",
       "      <td>0.000000</td>\n",
       "      <td>0.000000</td>\n",
       "      <td>0.000000</td>\n",
       "      <td>0.000000</td>\n",
       "      <td>0.000000</td>\n",
       "      <td>0.000000</td>\n",
       "      <td>0.000000</td>\n",
       "      <td>0.000000</td>\n",
       "      <td>0.000000</td>\n",
       "      <td>0.000000</td>\n",
       "      <td>0.000000</td>\n",
       "      <td>0.000000</td>\n",
       "      <td>0.000000</td>\n",
       "      <td>0.000000</td>\n",
       "      <td>0.000000</td>\n",
       "      <td>3</td>\n",
       "    </tr>\n",
       "    <tr>\n",
       "      <th>525</th>\n",
       "      <td>zero</td>\n",
       "      <td>0.000000</td>\n",
       "      <td>0.000000</td>\n",
       "      <td>0.000000</td>\n",
       "      <td>0.000000</td>\n",
       "      <td>0.000000</td>\n",
       "      <td>0.000000</td>\n",
       "      <td>0.000000</td>\n",
       "      <td>0.000000</td>\n",
       "      <td>0.000000</td>\n",
       "      <td>0.000000</td>\n",
       "      <td>0.000000</td>\n",
       "      <td>0.000000</td>\n",
       "      <td>0.000000</td>\n",
       "      <td>0.000000</td>\n",
       "      <td>0.000000</td>\n",
       "      <td>3</td>\n",
       "    </tr>\n",
       "    <tr>\n",
       "      <th>526</th>\n",
       "      <td>zero</td>\n",
       "      <td>0.000000</td>\n",
       "      <td>0.000000</td>\n",
       "      <td>0.000000</td>\n",
       "      <td>0.000000</td>\n",
       "      <td>0.000000</td>\n",
       "      <td>0.000000</td>\n",
       "      <td>0.000000</td>\n",
       "      <td>0.000000</td>\n",
       "      <td>0.000000</td>\n",
       "      <td>0.000000</td>\n",
       "      <td>0.000000</td>\n",
       "      <td>0.000000</td>\n",
       "      <td>0.000000</td>\n",
       "      <td>0.000000</td>\n",
       "      <td>0.000000</td>\n",
       "      <td>3</td>\n",
       "    </tr>\n",
       "  </tbody>\n",
       "</table>\n",
       "<p>527 rows × 17 columns</p>\n",
       "</div>"
      ],
      "text/plain": [
       "    action          x1          y1          z1         x2          y2  \\\n",
       "0      fel -381.349396 -269.253387 -116.813377 -45.249886 -256.332245   \n",
       "1      fel -376.021545 -272.967926 -133.821198 -61.291061 -241.356766   \n",
       "2      fel -371.472626 -270.972260 -142.165512 -33.497070 -232.640335   \n",
       "3      fel -391.170746 -288.454712 -141.190826 -53.679672 -241.145935   \n",
       "4      fel -397.024536 -299.664978 -151.170349 -70.518257 -250.302734   \n",
       "..     ...         ...         ...         ...        ...         ...   \n",
       "522   zero    0.000000    0.000000    0.000000   0.000000    0.000000   \n",
       "523   zero    0.000000    0.000000    0.000000   0.000000    0.000000   \n",
       "524   zero    0.000000    0.000000    0.000000   0.000000    0.000000   \n",
       "525   zero    0.000000    0.000000    0.000000   0.000000    0.000000   \n",
       "526   zero    0.000000    0.000000    0.000000   0.000000    0.000000   \n",
       "\n",
       "             z2          x3         y3         z3          x4         y4  \\\n",
       "0    -89.417160  150.056244 -87.576866  42.188335  242.867905  18.962461   \n",
       "1    -93.077553  143.094406 -77.135376  34.819637  215.708588   6.728501   \n",
       "2    -80.189026  160.922134 -66.725060  54.446323  238.968887  23.842035   \n",
       "3    -96.715271  129.194000 -86.305061  32.738186  215.872284   5.572473   \n",
       "4   -106.209557  120.442680 -91.443016  24.323040  206.199936  -0.270382   \n",
       "..          ...         ...        ...        ...         ...        ...   \n",
       "522    0.000000    0.000000   0.000000   0.000000    0.000000   0.000000   \n",
       "523    0.000000    0.000000   0.000000   0.000000    0.000000   0.000000   \n",
       "524    0.000000    0.000000   0.000000   0.000000    0.000000   0.000000   \n",
       "525    0.000000    0.000000   0.000000   0.000000    0.000000   0.000000   \n",
       "526    0.000000    0.000000   0.000000   0.000000    0.000000   0.000000   \n",
       "\n",
       "            z4          x5          y5          z5  label  \n",
       "0    76.399940  428.462341  293.971802  641.771301      1  \n",
       "1    58.470631  418.830933  280.534210  641.699524      1  \n",
       "2    79.471870  418.830933  280.534210  641.699524      1  \n",
       "3    62.609039  418.830933  280.534210  641.699524      1  \n",
       "4    53.590782  418.830933  280.534210  641.699524      1  \n",
       "..         ...         ...         ...         ...    ...  \n",
       "522   0.000000    0.000000    0.000000    0.000000      3  \n",
       "523   0.000000    0.000000    0.000000    0.000000      3  \n",
       "524   0.000000    0.000000    0.000000    0.000000      3  \n",
       "525   0.000000    0.000000    0.000000    0.000000      3  \n",
       "526   0.000000    0.000000    0.000000    0.000000      3  \n",
       "\n",
       "[527 rows x 17 columns]"
      ]
     },
     "execution_count": 246,
     "metadata": {},
     "output_type": "execute_result"
    }
   ],
   "source": [
    "lb = LabelEncoder()\n",
    "y = lb.fit_transform(y)\n",
    "df['label'] = y\n",
    "df"
   ]
  },
  {
   "cell_type": "code",
   "execution_count": 247,
   "metadata": {},
   "outputs": [
    {
     "data": {
      "text/plain": [
       "array(['boink', 'fel', 'nine', 'zero'], dtype=object)"
      ]
     },
     "execution_count": 247,
     "metadata": {},
     "output_type": "execute_result"
    }
   ],
   "source": [
    "lb.classes_"
   ]
  },
  {
   "cell_type": "code",
   "execution_count": 248,
   "metadata": {},
   "outputs": [],
   "source": [
    "x_train, x_test, y_train, y_test = train_test_split(x, y, test_size = 0.2, random_state = 0, stratify = y)"
   ]
  },
  {
   "cell_type": "code",
   "execution_count": 249,
   "metadata": {},
   "outputs": [
    {
     "data": {
      "text/plain": [
       "array([2, 1, 2, 3, 1, 2, 0, 1, 0, 0, 3, 3, 3, 3, 0, 1, 2, 2, 2, 3, 0, 0,\n",
       "       2, 0, 3, 2, 2, 1, 1, 2, 3, 1, 0, 2, 2, 0, 1, 2, 3, 1, 0, 3, 3, 2,\n",
       "       1, 1, 3, 0, 1, 1, 3, 1, 0, 3, 2, 2, 2, 1, 1, 2, 1, 0, 1, 2, 2, 1,\n",
       "       0, 0, 1, 1, 3, 0, 1, 2, 3, 1, 0, 1, 0, 0, 0, 1, 0, 3, 1, 1, 0, 3,\n",
       "       3, 3, 0, 1, 1, 0, 2, 0, 3, 0, 2, 0, 0, 3, 0, 0, 0, 1, 3, 3, 0, 0,\n",
       "       2, 2, 1, 3, 3, 0, 2, 0, 0, 2, 1, 2, 1, 0, 0, 3, 2, 2, 3, 0, 3, 2,\n",
       "       2, 3, 0, 1, 1, 0, 2, 0, 0, 3, 2, 3, 3, 2, 3, 2, 0, 0, 0, 0, 0, 0,\n",
       "       1, 1, 3, 0, 2, 2, 1, 1, 3, 0, 0, 2, 3, 1, 2, 2, 2, 0, 0, 0, 2, 1,\n",
       "       2, 0, 2, 2, 0, 3, 3, 2, 1, 0, 3, 0, 3, 3, 1, 3, 3, 2, 0, 0, 2, 1,\n",
       "       1, 2, 3, 3, 1, 1, 2, 2, 3, 2, 3, 3, 2, 2, 1, 1, 3, 1, 2, 1, 2, 2,\n",
       "       0, 0, 0, 3, 1, 1, 2, 1, 2, 1, 0, 2, 2, 0, 2, 1, 1, 2, 1, 0, 0, 1,\n",
       "       0, 1, 0, 0, 1, 1, 2, 1, 3, 3, 0, 0, 0, 3, 3, 3, 2, 3, 1, 0, 0, 3,\n",
       "       0, 0, 3, 3, 0, 0, 1, 3, 2, 0, 0, 0, 3, 2, 2, 1, 3, 0, 0, 0, 3, 1,\n",
       "       0, 3, 2, 0, 0, 1, 1, 0, 2, 1, 2, 3, 3, 1, 0, 1, 1, 1, 2, 0, 1, 3,\n",
       "       1, 3, 2, 3, 1, 1, 0, 1, 2, 1, 0, 2, 0, 0, 1, 3, 0, 1, 3, 0, 2, 2,\n",
       "       2, 2, 2, 0, 0, 1, 3, 1, 3, 3, 0, 3, 0, 0, 3, 0, 2, 1, 0, 3, 1, 1,\n",
       "       1, 2, 1, 0, 2, 3, 1, 3, 0, 1, 1, 3, 0, 1, 1, 0, 3, 1, 1, 2, 1, 3,\n",
       "       0, 1, 1, 1, 0, 2, 1, 1, 3, 3, 0, 2, 3, 2, 1, 0, 2, 1, 1, 0, 2, 1,\n",
       "       0, 0, 3, 3, 3, 1, 0, 2, 0, 1, 2, 0, 0, 3, 1, 0, 3, 0, 1, 0, 1, 3,\n",
       "       3, 3, 1])"
      ]
     },
     "execution_count": 249,
     "metadata": {},
     "output_type": "execute_result"
    }
   ],
   "source": [
    "y_train"
   ]
  },
  {
   "cell_type": "code",
   "execution_count": 250,
   "metadata": {},
   "outputs": [],
   "source": [
    "y_train = to_categorical(y_train)\n",
    "y_test = to_categorical(y_test)"
   ]
  },
  {
   "cell_type": "code",
   "execution_count": 251,
   "metadata": {},
   "outputs": [
    {
     "data": {
      "text/plain": [
       "((421, 15), (106, 15), (421, 4), (106, 4))"
      ]
     },
     "execution_count": 251,
     "metadata": {},
     "output_type": "execute_result"
    }
   ],
   "source": [
    "x_train.shape, x_test.shape, y_train.shape, y_test.shape"
   ]
  },
  {
   "cell_type": "code",
   "execution_count": 253,
   "metadata": {},
   "outputs": [],
   "source": [
    "model = Sequential()\n",
    "model.add(Input(shape=(15)))\n",
    "model.add(Dense(64, activation='relu'))\n",
    "model.add(Dense(y_train.shape[1], activation=\"softmax\"))"
   ]
  },
  {
   "cell_type": "code",
   "execution_count": 254,
   "metadata": {
    "tags": []
   },
   "outputs": [
    {
     "name": "stdout",
     "output_type": "stream",
     "text": [
      "Model: \"sequential_47\"\n",
      "_________________________________________________________________\n",
      " Layer (type)                Output Shape              Param #   \n",
      "=================================================================\n",
      " dense_71 (Dense)            (None, 64)                1024      \n",
      "                                                                 \n",
      " dense_72 (Dense)            (None, 4)                 260       \n",
      "                                                                 \n",
      "=================================================================\n",
      "Total params: 1,284\n",
      "Trainable params: 1,284\n",
      "Non-trainable params: 0\n",
      "_________________________________________________________________\n"
     ]
    }
   ],
   "source": [
    "model.compile(optimizer='adam',\n",
    "              loss=tf.keras.losses.CategoricalCrossentropy(),\n",
    "              metrics=['accuracy'])\n",
    "\n",
    "model.summary()"
   ]
  },
  {
   "cell_type": "code",
   "execution_count": 255,
   "metadata": {},
   "outputs": [
    {
     "name": "stdout",
     "output_type": "stream",
     "text": [
      "Epoch 1/40\n",
      "5/5 [==============================] - 0s 32ms/step - loss: 482.0336 - accuracy: 0.0000e+00 - val_loss: 369.9209 - val_accuracy: 0.0000e+00\n",
      "Epoch 2/40\n",
      "5/5 [==============================] - 0s 7ms/step - loss: 300.8373 - accuracy: 0.0855 - val_loss: 242.2207 - val_accuracy: 0.2170\n",
      "Epoch 3/40\n",
      "5/5 [==============================] - 0s 6ms/step - loss: 211.2824 - accuracy: 0.2185 - val_loss: 177.5417 - val_accuracy: 0.2170\n",
      "Epoch 4/40\n",
      "5/5 [==============================] - 0s 6ms/step - loss: 145.5587 - accuracy: 0.2565 - val_loss: 109.6084 - val_accuracy: 0.3491\n",
      "Epoch 5/40\n",
      "5/5 [==============================] - 0s 7ms/step - loss: 83.0402 - accuracy: 0.3777 - val_loss: 49.3219 - val_accuracy: 0.3585\n",
      "Epoch 6/40\n",
      "5/5 [==============================] - 0s 6ms/step - loss: 25.0422 - accuracy: 0.4109 - val_loss: 0.6166 - val_accuracy: 0.7170\n",
      "Epoch 7/40\n",
      "5/5 [==============================] - 0s 6ms/step - loss: 0.5971 - accuracy: 0.7648 - val_loss: 0.3177 - val_accuracy: 0.7736\n",
      "Epoch 8/40\n",
      "5/5 [==============================] - 0s 6ms/step - loss: 0.4770 - accuracy: 0.7743 - val_loss: 0.3163 - val_accuracy: 0.7736\n",
      "Epoch 9/40\n",
      "5/5 [==============================] - 0s 6ms/step - loss: 0.4163 - accuracy: 0.7743 - val_loss: 0.3145 - val_accuracy: 0.7736\n",
      "Epoch 10/40\n",
      "5/5 [==============================] - 0s 6ms/step - loss: 0.3607 - accuracy: 0.7743 - val_loss: 0.3124 - val_accuracy: 0.7736\n",
      "Epoch 11/40\n",
      "5/5 [==============================] - 0s 6ms/step - loss: 0.3083 - accuracy: 0.7767 - val_loss: 0.3103 - val_accuracy: 0.7736\n",
      "Epoch 12/40\n",
      "5/5 [==============================] - 0s 6ms/step - loss: 0.3053 - accuracy: 0.7767 - val_loss: 0.3082 - val_accuracy: 0.7736\n",
      "Epoch 13/40\n",
      "5/5 [==============================] - 0s 6ms/step - loss: 0.3032 - accuracy: 0.7767 - val_loss: 0.3062 - val_accuracy: 0.7736\n",
      "Epoch 14/40\n",
      "5/5 [==============================] - 0s 6ms/step - loss: 0.3011 - accuracy: 0.9169 - val_loss: 0.3041 - val_accuracy: 1.0000\n",
      "Epoch 15/40\n",
      "5/5 [==============================] - 0s 6ms/step - loss: 0.2990 - accuracy: 1.0000 - val_loss: 0.3019 - val_accuracy: 1.0000\n",
      "Epoch 16/40\n",
      "5/5 [==============================] - 0s 6ms/step - loss: 0.2968 - accuracy: 1.0000 - val_loss: 0.2997 - val_accuracy: 1.0000\n",
      "Epoch 17/40\n",
      "5/5 [==============================] - 0s 7ms/step - loss: 0.2947 - accuracy: 1.0000 - val_loss: 0.2975 - val_accuracy: 1.0000\n",
      "Epoch 18/40\n",
      "5/5 [==============================] - 0s 6ms/step - loss: 0.2925 - accuracy: 1.0000 - val_loss: 0.2953 - val_accuracy: 1.0000\n",
      "Epoch 19/40\n",
      "5/5 [==============================] - 0s 6ms/step - loss: 0.2903 - accuracy: 1.0000 - val_loss: 0.2932 - val_accuracy: 1.0000\n",
      "Epoch 20/40\n",
      "5/5 [==============================] - 0s 6ms/step - loss: 0.2883 - accuracy: 1.0000 - val_loss: 0.2910 - val_accuracy: 1.0000\n",
      "Epoch 21/40\n",
      "5/5 [==============================] - 0s 6ms/step - loss: 0.2861 - accuracy: 1.0000 - val_loss: 0.2888 - val_accuracy: 1.0000\n",
      "Epoch 22/40\n",
      "5/5 [==============================] - 0s 6ms/step - loss: 0.2840 - accuracy: 1.0000 - val_loss: 0.2866 - val_accuracy: 1.0000\n",
      "Epoch 23/40\n",
      "5/5 [==============================] - 0s 6ms/step - loss: 0.2818 - accuracy: 1.0000 - val_loss: 0.2844 - val_accuracy: 1.0000\n",
      "Epoch 24/40\n",
      "5/5 [==============================] - 0s 7ms/step - loss: 0.2796 - accuracy: 1.0000 - val_loss: 0.2821 - val_accuracy: 1.0000\n",
      "Epoch 25/40\n",
      "5/5 [==============================] - 0s 6ms/step - loss: 0.2772 - accuracy: 1.0000 - val_loss: 0.2799 - val_accuracy: 1.0000\n",
      "Epoch 26/40\n",
      "5/5 [==============================] - 0s 7ms/step - loss: 0.2750 - accuracy: 1.0000 - val_loss: 0.2776 - val_accuracy: 1.0000\n",
      "Epoch 27/40\n",
      "5/5 [==============================] - 0s 7ms/step - loss: 0.2728 - accuracy: 1.0000 - val_loss: 0.2752 - val_accuracy: 1.0000\n",
      "Epoch 28/40\n",
      "5/5 [==============================] - 0s 7ms/step - loss: 0.2705 - accuracy: 1.0000 - val_loss: 0.2729 - val_accuracy: 1.0000\n",
      "Epoch 29/40\n",
      "5/5 [==============================] - 0s 6ms/step - loss: 0.2681 - accuracy: 1.0000 - val_loss: 0.2705 - val_accuracy: 1.0000\n",
      "Epoch 30/40\n",
      "5/5 [==============================] - 0s 7ms/step - loss: 0.2658 - accuracy: 1.0000 - val_loss: 0.2680 - val_accuracy: 1.0000\n",
      "Epoch 31/40\n",
      "5/5 [==============================] - 0s 7ms/step - loss: 0.2633 - accuracy: 1.0000 - val_loss: 0.2656 - val_accuracy: 1.0000\n",
      "Epoch 32/40\n",
      "5/5 [==============================] - 0s 6ms/step - loss: 0.2609 - accuracy: 1.0000 - val_loss: 0.2632 - val_accuracy: 1.0000\n",
      "Epoch 33/40\n",
      "5/5 [==============================] - 0s 7ms/step - loss: 0.2585 - accuracy: 1.0000 - val_loss: 0.2607 - val_accuracy: 1.0000\n",
      "Epoch 34/40\n",
      "5/5 [==============================] - 0s 6ms/step - loss: 0.2562 - accuracy: 1.0000 - val_loss: 0.2582 - val_accuracy: 1.0000\n",
      "Epoch 35/40\n",
      "5/5 [==============================] - 0s 7ms/step - loss: 0.2536 - accuracy: 1.0000 - val_loss: 0.2557 - val_accuracy: 1.0000\n",
      "Epoch 36/40\n",
      "5/5 [==============================] - 0s 6ms/step - loss: 0.2512 - accuracy: 1.0000 - val_loss: 0.2532 - val_accuracy: 1.0000\n",
      "Epoch 37/40\n",
      "5/5 [==============================] - 0s 6ms/step - loss: 0.2486 - accuracy: 1.0000 - val_loss: 0.2507 - val_accuracy: 1.0000\n",
      "Epoch 38/40\n",
      "5/5 [==============================] - 0s 7ms/step - loss: 0.2462 - accuracy: 1.0000 - val_loss: 0.2481 - val_accuracy: 1.0000\n",
      "Epoch 39/40\n",
      "5/5 [==============================] - 0s 6ms/step - loss: 0.2437 - accuracy: 1.0000 - val_loss: 0.2455 - val_accuracy: 1.0000\n",
      "Epoch 40/40\n",
      "5/5 [==============================] - 0s 6ms/step - loss: 0.2412 - accuracy: 1.0000 - val_loss: 0.2429 - val_accuracy: 1.0000\n"
     ]
    }
   ],
   "source": [
    "history = model.fit(\n",
    "    x_train,\n",
    "    y_train,\n",
    "    steps_per_epoch = 5,\n",
    "    epochs = 40,\n",
    "    validation_data = (x_test, y_test),\n",
    "    verbose=1\n",
    ")"
   ]
  },
  {
   "cell_type": "code",
   "execution_count": 256,
   "metadata": {},
   "outputs": [],
   "source": [
    "def plot_learningCurve(history, epochs):\n",
    "  # Plot training & validation accuracy values\n",
    "  epoch_range = range(1, epochs+1)\n",
    "  plt.plot(epoch_range, history.history['accuracy'])\n",
    "  plt.plot(epoch_range, history.history['val_accuracy'])\n",
    "  plt.title('Model accuracy')\n",
    "  plt.ylabel('Accuracy')\n",
    "  plt.xlabel('Epoch')\n",
    "  plt.legend(['Train', 'Val'], loc='upper left')\n",
    "  plt.show()\n",
    "\n",
    "  # Plot training & validation loss values\n",
    "  plt.plot(epoch_range, history.history['loss'])\n",
    "  plt.plot(epoch_range, history.history['val_loss'])\n",
    "  plt.title('Model loss')\n",
    "  plt.ylabel('Loss')\n",
    "  plt.xlabel('Epoch')\n",
    "  plt.legend(['Train', 'Val'], loc='upper left')\n",
    "  plt.show()"
   ]
  },
  {
   "cell_type": "code",
   "execution_count": 257,
   "metadata": {},
   "outputs": [
    {
     "data": {
      "image/png": "[encoded data removed]",
      "text/plain": [
       "<Figure size 432x288 with 1 Axes>"
      ]
     },
     "metadata": {
      "needs_background": "light"
     },
     "output_type": "display_data"
    },
    {
     "data": {
      "image/png": "[encoded data removed]",
      "text/plain": [
       "<Figure size 432x288 with 1 Axes>"
      ]
     },
     "metadata": {
      "needs_background": "light"
     },
     "output_type": "display_data"
    }
   ],
   "source": [
    "plot_learningCurve(history, 40)"
   ]
  },
  {
   "cell_type": "code",
   "execution_count": null,
   "metadata": {},
   "outputs": [],
   "source": [
    "test_X = np.array([\n",
    "    [-406.325867,-327.913513,-169.621292,-105.695808,-266.762054,-112.666458,68.620850,-135.545349,3.377147,180.597488,-28.868486,43.224567,418.830933,280.534210,641.699524],\n",
    "    [1320.943481,1054.197388,1277.395508,-316.596161,-115.715225,645.914490,-293.359589,-117.338379,746.761230,-185.270874,60.773712,834.030273,421.568390,282.367767,645.893616],\n",
    "    [-383.235077,-311.100037,-197.631592,-107.004318,-235.231262,-116.203461,421.568390,282.367767,645.893616,421.568390,282.367767,645.893616,421.568390,282.367767,645.893616],\n",
    "    [0,0,0,0,0,0,0,0,0,0,0,0,0,0,0],\n",
    "    [1321.087402,1054.216675,1277.468872,-317.182556,-117.585640,643.408936,-293.577362,-117.764130,746.351929,-187.409271,56.366665,831.326477,421.568390,282.367767,645.893616],\n",
    "    [1312.798584,1047.551392,1269.233154,-315.396240,-117.270004,638.171997,-291.300446,-116.279694,742.242371,-186.199646,56.229809,825.841125,418.830933,280.534210,641.699524],\n",
    "    [1312.811523,1047.273438,1269.202637,-315.684814,-117.178726,638.912842,-290.455994,-115.492928,743.165222,-186.414749,55.449490,825.548950,418.830933,280.534210,641.699524],\n",
    "    [0,0,0,0,0,0,0,0,0,0,0,0,0,0,0],\n",
    "    [1312.833130,1047.422729,1269.133179,-315.423615,-117.150795,639.403870,-290.824249,-116.106712,742.619629,-186.572784,55.422165,825.221924,418.830933,280.534210,641.699524],\n",
    "    [1321.549316,1046.301880,1277.417969,-351.697235,-175.049469,563.982727,-309.408997,-121.954727,722.247742,-218.011322,25.565254,782.218262,421.568390,282.367767,645.893616],\n",
    "    [0,0,0,0,0,0,0,0,0,0,0,0,0,0,0],\n",
    "    [1316.986938,1036.482056,1274.795288,-365.841003,-200.822876,520.388123,-314.164551,-122.020241,707.959534,-229.205444,17.490072,759.195312,418.830933,280.534210,641.699524],\n",
    "    [1327.660156,1043.612183,1287.544922,-371.495026,-206.819122,515.230835,-318.456543,-121.864571,709.689758,-232.852890,17.775621,759.463318,421.568390,282.367767,645.893616],\n",
    "    [1320.145386,1036.028320,1280.863159,-372.233978,-209.604691,506.293121,-318.277252,-122.168648,701.931641,-233.700394,15.901367,750.742249,418.830933,280.534210,641.699524],\n",
    "    [1320.010376,1035.806519,1280.243164,-373.965454,-210.666306,506.634094,-317.075134,-120.870102,703.736511,-234.436981,15.467718,750.518066,418.830933,280.534210,641.699524],\n",
    "    [0,0,0,0,0,0,0,0,0,0,0,0,0,0,0],\n",
    "    [1322.411011,1035.252319,1275.233398,-368.881866,-204.410355,524.392639,-316.768860,-125.999161,711.618896,-233.246735,10.529224,760.487915,421.568390,282.367767,645.893616],\n",
    "    [1314.253906,1026.764648,1257.505493,-362.358154,-196.420059,542.371033,-312.217865,-129.137466,718.170227,-230.745117,3.968786,766.347595,421.568390,282.367767,645.893616],\n",
    "    [-370.806702,-296.183807,-180.345581,-110.419876,-240.254776,-118.526176,421.568390,282.367767,645.893616,421.568390,282.367767,645.893616,421.568390,282.367767,645.893616],\n",
    "    [-371.306366,-294.510223,-181.938309,-130.909012,-249.784012,-132.658234,421.568390,282.367767,645.893616,421.568390,282.367767,645.893616,421.568390,282.367767,645.893616],\n",
    "    [-383.235077,-311.100037,-197.631592,-107.004318,-235.231262,-116.203461,421.568390,282.367767,645.893616,421.568390,282.367767,645.893616,421.568390,282.367767,645.893616],\n",
    "    [999,-999,999,-999,999,-999,999,-999,999,-999,999,-999,999,-999,999],\n",
    "    [999,-999,999,-999,999,-999,999,-999,999,-999,999,-999,999,-999,999],\n",
    "    [999,-999,999,-999,999,-999,999,-999,999,-999,999,-999,999,-999,999],\n",
    "    [999,-999,999,-999,999,-999,999,-999,999,-999,999,-999,999,-999,999],\n",
    "    [999,-999,999,-999,999,-999,999,-999,999,-999,999,-999,999,-999,999],\n",
    "    [999,-999,999,-999,999,-999,999,-999,999,-999,999,-999,999,-999,999]\n",
    "])\n",
    "np.set_printoptions(precision=4)\n",
    "np.set_printoptions(suppress=True)\n",
    "Y = model.predict_on_batch(test_X)\n",
    "print(Y*100)\n",
    "# array(['boink', 'fel', 'zero'], dtype=object)"
   ]
  },
  {
   "cell_type": "code",
   "execution_count": null,
   "metadata": {},
   "outputs": [],
   "source": [
    "y_train"
   ]
  },
  {
   "cell_type": "code",
   "execution_count": null,
   "metadata": {},
   "outputs": [],
   "source": [
    "score = metrics.log_loss(y_test, Y)"
   ]
  },
  {
   "cell_type": "code",
   "execution_count": null,
   "metadata": {},
   "outputs": [],
   "source": [
    "test_X = np.array([\n",
    "    [-371.472626,-270.972260,-142.165512,-33.497070,-232.640335,-80.189026,160.922134,-66.725060,54.446323,238.968887,23.842035,79.471870,418.830933,280.534210,641.699524],\n",
    "])\n",
    "Y = model.predict(test_X)\n",
    "print(Y*100)"
   ]
  },
  {
   "cell_type": "code",
   "execution_count": null,
   "metadata": {},
   "outputs": [],
   "source": [
    "test_X = np.array([\n",
    "        [0,0,0,0,0,0,0,0,0,0,0,0,0,0,0]\n",
    "])\n",
    "Y = model.predict(test_X)\n",
    "print(Y*100)"
   ]
  },
  {
   "cell_type": "code",
   "execution_count": null,
   "metadata": {},
   "outputs": [],
   "source": [
    "converter = tf.lite.TFLiteConverter.from_keras_model(model)\n",
    "converter.optimizations = [tf.lite.Optimize.DEFAULT]\n",
    "def representative_dataset_gen():\n",
    "    for _ in range(10000):\n",
    "        yield [\n",
    "            np.array(\n",
    "                [np.random.uniform(), np.random.uniform()]\n",
    "            , dtype=np.float32)\n",
    "        ]\n",
    "converter.representative_dataset = representative_dataset_gen\n",
    "converter.target_spec.supported_ops = [tf.lite.OpsSet.TFLITE_BUILTINS_INT8]\n",
    "tflite_quant_model = converter.convert()\n",
    "open(\"converted_model.tflite\", \"wb\").write(tflite_quant_model)"
   ]
  },
  {
   "cell_type": "code",
   "execution_count": null,
   "metadata": {},
   "outputs": [],
   "source": [
    "# xxd -i converted_model.tflite > model_data.cc"
   ]
  }
 ],
 "metadata": {
  "kernelspec": {
   "display_name": "Python 3 (ipykernel)",
   "language": "python",
   "name": "python3"
  },
  "language_info": {
   "codemirror_mode": {
    "name": "ipython",
    "version": 3
   },
   "file_extension": ".py",
   "mimetype": "text/x-python",
   "name": "python",
   "nbconvert_exporter": "python",
   "pygments_lexer": "ipython3",
   "version": "3.9.7"
  }
 },
 "nbformat": 4,
 "nbformat_minor": 4
}
