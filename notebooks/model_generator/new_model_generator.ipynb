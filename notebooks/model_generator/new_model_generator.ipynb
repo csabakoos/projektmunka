{
 "cells": [
  {
   "cell_type": "code",
   "execution_count": null,
   "metadata": {},
   "outputs": [],
   "source": [
    "import tensorflow as tf\n",
    "from tensorflow.keras.models import Sequential\n",
    "from tensorflow.keras.layers import Dense, Flatten\n",
    "from keras.utils import to_categorical\n",
    "from tensorflow.keras import Input\n",
    "from tensorflow.data import Dataset\n",
    "import pandas as pd\n",
    "import numpy as np\n",
    "import itertools\n",
    "import csv\n",
    "from sklearn import metrics\n",
    "from sklearn.model_selection import train_test_split\n",
    "from sklearn.preprocessing import StandardScaler, LabelEncoder\n",
    "import matplotlib.pyplot as plt"
   ]
  },
  {
   "cell_type": "code",
   "execution_count": null,
   "metadata": {},
   "outputs": [],
   "source": [
    "df = pd.read_csv('new_way.csv')\n",
    "df['action'].count()"
   ]
  },
  {
   "cell_type": "code",
   "execution_count": null,
   "metadata": {},
   "outputs": [],
   "source": [
    "x = df.drop('action',axis=1)\n",
    "y = df.action"
   ]
  },
  {
   "cell_type": "code",
   "execution_count": null,
   "metadata": {},
   "outputs": [],
   "source": [
    "lb = LabelEncoder()\n",
    "y = lb.fit_transform(y)\n",
    "df['label'] = y"
   ]
  },
  {
   "cell_type": "code",
   "execution_count": null,
   "metadata": {},
   "outputs": [],
   "source": [
    "lb.classes_"
   ]
  },
  {
   "cell_type": "code",
   "execution_count": null,
   "metadata": {},
   "outputs": [],
   "source": [
    "x_train, x_test, y_train, y_test = train_test_split(x, y, test_size = 0.2, random_state = 0, stratify = y)"
   ]
  },
  {
   "cell_type": "code",
   "execution_count": null,
   "metadata": {},
   "outputs": [],
   "source": [
    "y_train = to_categorical(y_train)\n",
    "y_test = to_categorical(y_test)"
   ]
  },
  {
   "cell_type": "code",
   "execution_count": null,
   "metadata": {},
   "outputs": [],
   "source": [
    "x_train.shape, x_test.shape, y_train.shape, y_test.shape"
   ]
  },
  {
   "cell_type": "code",
   "execution_count": null,
   "metadata": {},
   "outputs": [],
   "source": [
    "model = Sequential()\n",
    "model.add(Input(shape=(15)))\n",
    "model.add(Dense(32, activation='relu'))\n",
    "model.add(Dense(y_train.shape[1], activation=\"softmax\"))"
   ]
  },
  {
   "cell_type": "code",
   "execution_count": null,
   "metadata": {
    "tags": []
   },
   "outputs": [],
   "source": [
    "model.compile(optimizer='adam',\n",
    "              loss=tf.keras.losses.CategoricalCrossentropy(),\n",
    "              metrics=['accuracy'])\n",
    "\n",
    "model.summary()"
   ]
  },
  {
   "cell_type": "code",
   "execution_count": null,
   "metadata": {},
   "outputs": [],
   "source": [
    "history = model.fit(\n",
    "    x_train,\n",
    "    y_train,\n",
    "    steps_per_epoch = 5,\n",
    "    epochs = 40,\n",
    "    validation_data = (x_test, y_test),\n",
    "    verbose=1\n",
    ")"
   ]
  },
  {
   "cell_type": "code",
   "execution_count": null,
   "metadata": {},
   "outputs": [],
   "source": [
    "def plot_learningCurve(history, epochs):\n",
    "  # Plot training & validation accuracy values\n",
    "  epoch_range = range(1, epochs+1)\n",
    "  plt.plot(epoch_range, history.history['accuracy'])\n",
    "  plt.plot(epoch_range, history.history['val_accuracy'])\n",
    "  plt.title('Model accuracy')\n",
    "  plt.ylabel('Accuracy')\n",
    "  plt.xlabel('Epoch')\n",
    "  plt.legend(['Train', 'Val'], loc='upper left')\n",
    "  plt.show()\n",
    "\n",
    "  # Plot training & validation loss values\n",
    "  plt.plot(epoch_range, history.history['loss'])\n",
    "  plt.plot(epoch_range, history.history['val_loss'])\n",
    "  plt.title('Model loss')\n",
    "  plt.ylabel('Loss')\n",
    "  plt.xlabel('Epoch')\n",
    "  plt.legend(['Train', 'Val'], loc='upper left')\n",
    "  plt.show()"
   ]
  },
  {
   "cell_type": "code",
   "execution_count": null,
   "metadata": {},
   "outputs": [],
   "source": [
    "plot_learningCurve(history, 40)"
   ]
  },
  {
   "cell_type": "code",
   "execution_count": null,
   "metadata": {},
   "outputs": [],
   "source": [
    "test_X = np.array([\n",
    "    [-406.325867,-327.913513,-169.621292,-105.695808,-266.762054,-112.666458,68.620850,-135.545349,3.377147,180.597488,-28.868486,43.224567,418.830933,280.534210,641.699524],\n",
    "    [1320.943481,1054.197388,1277.395508,-316.596161,-115.715225,645.914490,-293.359589,-117.338379,746.761230,-185.270874,60.773712,834.030273,421.568390,282.367767,645.893616],\n",
    "    [-383.235077,-311.100037,-197.631592,-107.004318,-235.231262,-116.203461,421.568390,282.367767,645.893616,421.568390,282.367767,645.893616,421.568390,282.367767,645.893616],\n",
    "    [0,0,0,0,0,0,0,0,0,0,0,0,0,0,0],\n",
    "    [1321.087402,1054.216675,1277.468872,-317.182556,-117.585640,643.408936,-293.577362,-117.764130,746.351929,-187.409271,56.366665,831.326477,421.568390,282.367767,645.893616],\n",
    "    [1312.798584,1047.551392,1269.233154,-315.396240,-117.270004,638.171997,-291.300446,-116.279694,742.242371,-186.199646,56.229809,825.841125,418.830933,280.534210,641.699524],\n",
    "    [1312.811523,1047.273438,1269.202637,-315.684814,-117.178726,638.912842,-290.455994,-115.492928,743.165222,-186.414749,55.449490,825.548950,418.830933,280.534210,641.699524],\n",
    "    [0,0,0,0,0,0,0,0,0,0,0,0,0,0,0],\n",
    "    [1312.833130,1047.422729,1269.133179,-315.423615,-117.150795,639.403870,-290.824249,-116.106712,742.619629,-186.572784,55.422165,825.221924,418.830933,280.534210,641.699524],\n",
    "    [1321.549316,1046.301880,1277.417969,-351.697235,-175.049469,563.982727,-309.408997,-121.954727,722.247742,-218.011322,25.565254,782.218262,421.568390,282.367767,645.893616],\n",
    "    [0,0,0,0,0,0,0,0,0,0,0,0,0,0,0],\n",
    "    [1316.986938,1036.482056,1274.795288,-365.841003,-200.822876,520.388123,-314.164551,-122.020241,707.959534,-229.205444,17.490072,759.195312,418.830933,280.534210,641.699524],\n",
    "    [1327.660156,1043.612183,1287.544922,-371.495026,-206.819122,515.230835,-318.456543,-121.864571,709.689758,-232.852890,17.775621,759.463318,421.568390,282.367767,645.893616],\n",
    "    [1320.145386,1036.028320,1280.863159,-372.233978,-209.604691,506.293121,-318.277252,-122.168648,701.931641,-233.700394,15.901367,750.742249,418.830933,280.534210,641.699524],\n",
    "    [1320.010376,1035.806519,1280.243164,-373.965454,-210.666306,506.634094,-317.075134,-120.870102,703.736511,-234.436981,15.467718,750.518066,418.830933,280.534210,641.699524],\n",
    "    [0,0,0,0,0,0,0,0,0,0,0,0,0,0,0],\n",
    "    [1322.411011,1035.252319,1275.233398,-368.881866,-204.410355,524.392639,-316.768860,-125.999161,711.618896,-233.246735,10.529224,760.487915,421.568390,282.367767,645.893616],\n",
    "    [1314.253906,1026.764648,1257.505493,-362.358154,-196.420059,542.371033,-312.217865,-129.137466,718.170227,-230.745117,3.968786,766.347595,421.568390,282.367767,645.893616],\n",
    "    [-370.806702,-296.183807,-180.345581,-110.419876,-240.254776,-118.526176,421.568390,282.367767,645.893616,421.568390,282.367767,645.893616,421.568390,282.367767,645.893616],\n",
    "    [-371.306366,-294.510223,-181.938309,-130.909012,-249.784012,-132.658234,421.568390,282.367767,645.893616,421.568390,282.367767,645.893616,421.568390,282.367767,645.893616],\n",
    "    [-383.235077,-311.100037,-197.631592,-107.004318,-235.231262,-116.203461,421.568390,282.367767,645.893616,421.568390,282.367767,645.893616,421.568390,282.367767,645.893616],\n",
    "    [999,-999,999,-999,999,-999,999,-999,999,-999,999,-999,999,-999,999],\n",
    "    [999,-999,999,-999,999,-999,999,-999,999,-999,999,-999,999,-999,999],\n",
    "    [999,-999,999,-999,999,-999,999,-999,999,-999,999,-999,999,-999,999],\n",
    "    [999,-999,999,-999,999,-999,999,-999,999,-999,999,-999,999,-999,999],\n",
    "    [999,-999,999,-999,999,-999,999,-999,999,-999,999,-999,999,-999,999],\n",
    "    [999,-999,999,-999,999,-999,999,-999,999,-999,999,-999,999,-999,999]\n",
    "])\n",
    "np.set_printoptions(precision=4)\n",
    "np.set_printoptions(suppress=True)\n",
    "Y = model.predict_on_batch(test_X)\n",
    "print(Y*100)\n",
    "# array(['boink', 'fel', 'zero'], dtype=object)"
   ]
  },
  {
   "cell_type": "code",
   "execution_count": null,
   "metadata": {},
   "outputs": [],
   "source": [
    "converter = tf.lite.TFLiteConverter.from_keras_model(model)\n",
    "converter.optimizations = [tf.lite.Optimize.DEFAULT]\n",
    "def representative_dataset_gen():\n",
    "    for _ in range(10000):\n",
    "        yield [\n",
    "            np.array(\n",
    "                [np.random.uniform(), np.random.uniform()]\n",
    "            , dtype=np.float32)\n",
    "        ]\n",
    "converter.representative_dataset = representative_dataset_gen\n",
    "converter.target_spec.supported_ops = [tf.lite.OpsSet.TFLITE_BUILTINS_INT8]\n",
    "tflite_quant_model = converter.convert()\n",
    "open(\"converted_model.tflite\", \"wb\").write(tflite_quant_model)"
   ]
  },
  {
   "cell_type": "code",
   "execution_count": null,
   "metadata": {},
   "outputs": [],
   "source": [
    "# xxd -i converted_model.tflite > model_data.cc"
   ]
  }
 ],
 "metadata": {
  "kernelspec": {
   "display_name": "Python 3 (ipykernel)",
   "language": "python",
   "name": "python3"
  },
  "language_info": {
   "codemirror_mode": {
    "name": "ipython",
    "version": 3
   },
   "file_extension": ".py",
   "mimetype": "text/x-python",
   "name": "python",
   "nbconvert_exporter": "python",
   "pygments_lexer": "ipython3",
   "version": "3.9.13"
  }
 },
 "nbformat": 4,
 "nbformat_minor": 4
}
