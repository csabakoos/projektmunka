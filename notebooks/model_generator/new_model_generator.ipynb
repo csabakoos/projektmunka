{
 "cells": [
  {
   "cell_type": "code",
   "execution_count": 15,
   "metadata": {},
   "outputs": [],
   "source": [
    "import tensorflow as tf\n",
    "from tensorflow.keras.models import Sequential\n",
    "from tensorflow.keras.layers import Dense\n",
    "from tensorflow.keras import Input\n",
    "from tensorflow.data import Dataset\n",
    "import pandas as pd\n",
    "import numpy as np\n",
    "import itertools\n",
    "import csv\n",
    "from sklearn.model_selection import train_test_split\n",
    "from sklearn.preprocessing import StandardScaler, LabelEncoder\n",
    "import matplotlib.pyplot as plt"
   ]
  },
  {
   "cell_type": "code",
   "execution_count": 16,
   "metadata": {},
   "outputs": [
    {
     "data": {
      "text/plain": [
       "412"
      ]
     },
     "execution_count": 16,
     "metadata": {},
     "output_type": "execute_result"
    }
   ],
   "source": [
    "df = pd.read_csv('new_way.csv')\n",
    "df['action'].count()"
   ]
  },
  {
   "cell_type": "code",
   "execution_count": 17,
   "metadata": {},
   "outputs": [],
   "source": [
    "x = df.drop('action',axis=1)\n",
    "y = df.action"
   ]
  },
  {
   "cell_type": "code",
   "execution_count": 18,
   "metadata": {},
   "outputs": [],
   "source": [
    "lb = LabelEncoder()\n",
    "y = lb.fit_transform(y)"
   ]
  },
  {
   "cell_type": "code",
   "execution_count": 19,
   "metadata": {},
   "outputs": [],
   "source": [
    "x_train, x_test, y_train, y_test = train_test_split(x, y, test_size = 0.2, random_state = 0, stratify = y)"
   ]
  },
  {
   "cell_type": "code",
   "execution_count": 20,
   "metadata": {},
   "outputs": [],
   "source": [
    "model = Sequential([\n",
    "    Input(shape=(15)),\n",
    "    Dense(5, activation='relu'),\n",
    "    Dense(1, activation='sigmoid')\n",
    "])"
   ]
  },
  {
   "cell_type": "code",
   "execution_count": 21,
   "metadata": {},
   "outputs": [
    {
     "name": "stdout",
     "output_type": "stream",
     "text": [
      "Model: \"sequential_1\"\n",
      "_________________________________________________________________\n",
      " Layer (type)                Output Shape              Param #   \n",
      "=================================================================\n",
      " dense_2 (Dense)             (None, 5)                 80        \n",
      "                                                                 \n",
      " dense_3 (Dense)             (None, 1)                 6         \n",
      "                                                                 \n",
      "=================================================================\n",
      "Total params: 86\n",
      "Trainable params: 86\n",
      "Non-trainable params: 0\n",
      "_________________________________________________________________\n"
     ]
    }
   ],
   "source": [
    "model.compile(optimizer='adam',\n",
    "              loss=tf.keras.losses.BinaryCrossentropy(),\n",
    "              metrics=['accuracy'])\n",
    "\n",
    "model.summary()"
   ]
  },
  {
   "cell_type": "code",
   "execution_count": 22,
   "metadata": {},
   "outputs": [
    {
     "name": "stdout",
     "output_type": "stream",
     "text": [
      "Epoch 1/40\n",
      "1/5 [=====>........................] - ETA: 1s - loss: 199.3792 - accuracy: 0.3636"
     ]
    },
    {
     "name": "stderr",
     "output_type": "stream",
     "text": [
      "2022-11-20 14:39:34.303722: I tensorflow/core/grappler/optimizers/custom_graph_optimizer_registry.cc:114] Plugin optimizer for device_type GPU is enabled.\n"
     ]
    },
    {
     "name": "stdout",
     "output_type": "stream",
     "text": [
      "5/5 [==============================] - 1s 63ms/step - loss: 206.0539 - accuracy: 0.3739 - val_loss: 216.3593 - val_accuracy: 0.3735\n",
      "Epoch 2/40\n",
      "5/5 [==============================] - 0s 15ms/step - loss: 192.2377 - accuracy: 0.3739 - val_loss: 201.8737 - val_accuracy: 0.3735\n",
      "Epoch 3/40\n",
      "1/5 [=====>........................] - ETA: 0s - loss: 168.3318 - accuracy: 0.4697"
     ]
    },
    {
     "name": "stderr",
     "output_type": "stream",
     "text": [
      "2022-11-20 14:39:34.586982: I tensorflow/core/grappler/optimizers/custom_graph_optimizer_registry.cc:114] Plugin optimizer for device_type GPU is enabled.\n"
     ]
    },
    {
     "name": "stdout",
     "output_type": "stream",
     "text": [
      "5/5 [==============================] - 0s 15ms/step - loss: 178.3235 - accuracy: 0.3739 - val_loss: 187.9454 - val_accuracy: 0.3735\n",
      "Epoch 4/40\n",
      "5/5 [==============================] - 0s 15ms/step - loss: 164.8819 - accuracy: 0.3739 - val_loss: 174.7115 - val_accuracy: 0.3735\n",
      "Epoch 5/40\n",
      "5/5 [==============================] - 0s 16ms/step - loss: 152.6269 - accuracy: 0.3739 - val_loss: 161.4497 - val_accuracy: 0.3735\n",
      "Epoch 6/40\n",
      "5/5 [==============================] - 0s 16ms/step - loss: 139.5832 - accuracy: 0.3739 - val_loss: 148.4756 - val_accuracy: 0.3735\n",
      "Epoch 7/40\n",
      "5/5 [==============================] - 0s 17ms/step - loss: 127.3113 - accuracy: 0.3739 - val_loss: 135.4971 - val_accuracy: 0.3735\n",
      "Epoch 8/40\n",
      "5/5 [==============================] - 0s 16ms/step - loss: 115.3756 - accuracy: 0.3739 - val_loss: 122.4518 - val_accuracy: 0.3735\n",
      "Epoch 9/40\n",
      "5/5 [==============================] - 0s 16ms/step - loss: 102.3466 - accuracy: 0.3739 - val_loss: 109.7430 - val_accuracy: 0.3735\n",
      "Epoch 10/40\n",
      "5/5 [==============================] - 0s 17ms/step - loss: 90.7612 - accuracy: 0.3739 - val_loss: 96.7762 - val_accuracy: 0.3735\n",
      "Epoch 11/40\n",
      "5/5 [==============================] - 0s 16ms/step - loss: 78.0279 - accuracy: 0.3739 - val_loss: 84.1153 - val_accuracy: 0.3735\n",
      "Epoch 12/40\n",
      "5/5 [==============================] - 0s 16ms/step - loss: 66.4446 - accuracy: 0.3891 - val_loss: 71.8949 - val_accuracy: 0.4217\n",
      "Epoch 13/40\n",
      "5/5 [==============================] - 0s 16ms/step - loss: 55.8500 - accuracy: 0.4468 - val_loss: 61.8033 - val_accuracy: 0.4699\n",
      "Epoch 14/40\n",
      "5/5 [==============================] - 0s 16ms/step - loss: 48.3253 - accuracy: 0.5471 - val_loss: 53.5204 - val_accuracy: 0.5301\n",
      "Epoch 15/40\n",
      "5/5 [==============================] - 0s 15ms/step - loss: 41.3974 - accuracy: 0.5653 - val_loss: 46.2057 - val_accuracy: 0.5422\n",
      "Epoch 16/40\n",
      "5/5 [==============================] - 0s 17ms/step - loss: 35.4595 - accuracy: 0.5805 - val_loss: 39.3142 - val_accuracy: 0.5542\n",
      "Epoch 17/40\n",
      "5/5 [==============================] - 0s 16ms/step - loss: 30.1195 - accuracy: 0.5866 - val_loss: 32.5168 - val_accuracy: 0.5542\n",
      "Epoch 18/40\n",
      "5/5 [==============================] - 0s 17ms/step - loss: 24.3881 - accuracy: 0.5866 - val_loss: 26.0179 - val_accuracy: 0.5542\n",
      "Epoch 19/40\n",
      "5/5 [==============================] - 0s 16ms/step - loss: 19.7913 - accuracy: 0.5866 - val_loss: 19.1853 - val_accuracy: 0.5542\n",
      "Epoch 20/40\n",
      "5/5 [==============================] - 0s 17ms/step - loss: 14.0950 - accuracy: 0.5866 - val_loss: 12.5974 - val_accuracy: 0.5542\n",
      "Epoch 21/40\n",
      "5/5 [==============================] - 0s 16ms/step - loss: 8.3988 - accuracy: 0.5866 - val_loss: 6.2656 - val_accuracy: 0.5542\n",
      "Epoch 22/40\n",
      "5/5 [==============================] - 0s 16ms/step - loss: 3.8516 - accuracy: 0.6413 - val_loss: 2.8471 - val_accuracy: 0.6867\n",
      "Epoch 23/40\n",
      "5/5 [==============================] - 0s 16ms/step - loss: 2.5025 - accuracy: 0.6869 - val_loss: 2.2616 - val_accuracy: 0.6867\n",
      "Epoch 24/40\n",
      "5/5 [==============================] - 0s 15ms/step - loss: 2.0378 - accuracy: 0.6869 - val_loss: 1.7771 - val_accuracy: 0.6867\n",
      "Epoch 25/40\n",
      "5/5 [==============================] - 0s 15ms/step - loss: 1.4742 - accuracy: 0.6869 - val_loss: 1.3890 - val_accuracy: 0.6867\n",
      "Epoch 26/40\n",
      "5/5 [==============================] - 0s 16ms/step - loss: 1.1015 - accuracy: 0.6869 - val_loss: 1.0360 - val_accuracy: 0.6867\n",
      "Epoch 27/40\n",
      "5/5 [==============================] - 0s 15ms/step - loss: 0.7841 - accuracy: 0.6960 - val_loss: 0.7357 - val_accuracy: 0.6867\n",
      "Epoch 28/40\n",
      "5/5 [==============================] - 0s 14ms/step - loss: 0.6455 - accuracy: 0.7082 - val_loss: 0.5087 - val_accuracy: 0.6867\n",
      "Epoch 29/40\n",
      "5/5 [==============================] - 0s 16ms/step - loss: 0.6147 - accuracy: 0.7082 - val_loss: 0.3507 - val_accuracy: 0.6867\n",
      "Epoch 30/40\n",
      "5/5 [==============================] - 0s 16ms/step - loss: 0.5927 - accuracy: 0.7112 - val_loss: 0.2531 - val_accuracy: 0.6867\n",
      "Epoch 31/40\n",
      "5/5 [==============================] - 0s 16ms/step - loss: 0.5890 - accuracy: 0.7112 - val_loss: 0.1991 - val_accuracy: 0.6988\n",
      "Epoch 32/40\n",
      "5/5 [==============================] - 0s 16ms/step - loss: 0.5834 - accuracy: 0.7112 - val_loss: 0.1726 - val_accuracy: 0.6988\n",
      "Epoch 33/40\n",
      "5/5 [==============================] - 0s 15ms/step - loss: 0.5768 - accuracy: 0.7112 - val_loss: 0.1570 - val_accuracy: 0.6988\n",
      "Epoch 34/40\n",
      "5/5 [==============================] - 0s 16ms/step - loss: 0.5724 - accuracy: 0.7112 - val_loss: 0.1459 - val_accuracy: 0.6988\n",
      "Epoch 35/40\n",
      "5/5 [==============================] - 0s 17ms/step - loss: 0.5677 - accuracy: 0.7112 - val_loss: 0.1378 - val_accuracy: 0.6988\n",
      "Epoch 36/40\n",
      "5/5 [==============================] - 0s 16ms/step - loss: 0.5621 - accuracy: 0.7112 - val_loss: 0.1320 - val_accuracy: 0.6988\n",
      "Epoch 37/40\n",
      "5/5 [==============================] - 0s 17ms/step - loss: 0.5582 - accuracy: 0.7112 - val_loss: 0.1270 - val_accuracy: 0.6988\n",
      "Epoch 38/40\n",
      "5/5 [==============================] - 0s 17ms/step - loss: 0.5532 - accuracy: 0.7112 - val_loss: 0.1228 - val_accuracy: 0.7108\n",
      "Epoch 39/40\n",
      "5/5 [==============================] - 0s 16ms/step - loss: 0.5484 - accuracy: 0.7112 - val_loss: 0.1193 - val_accuracy: 0.7108\n",
      "Epoch 40/40\n",
      "5/5 [==============================] - 0s 16ms/step - loss: 0.5449 - accuracy: 0.7112 - val_loss: 0.1159 - val_accuracy: 0.7108\n"
     ]
    }
   ],
   "source": [
    "history = model.fit(\n",
    "    x_train,\n",
    "    y_train,\n",
    "    steps_per_epoch = 5,\n",
    "    epochs = 40,\n",
    "    validation_data = (x_test, y_test),\n",
    "    verbose=1\n",
    ")"
   ]
  },
  {
   "cell_type": "code",
   "execution_count": 23,
   "metadata": {},
   "outputs": [],
   "source": [
    "def plot_learningCurve(history, epochs):\n",
    "  # Plot training & validation accuracy values\n",
    "  epoch_range = range(1, epochs+1)\n",
    "  plt.plot(epoch_range, history.history['accuracy'])\n",
    "  plt.plot(epoch_range, history.history['val_accuracy'])\n",
    "  plt.title('Model accuracy')\n",
    "  plt.ylabel('Accuracy')\n",
    "  plt.xlabel('Epoch')\n",
    "  plt.legend(['Train', 'Val'], loc='upper left')\n",
    "  plt.show()\n",
    "\n",
    "  # Plot training & validation loss values\n",
    "  plt.plot(epoch_range, history.history['loss'])\n",
    "  plt.plot(epoch_range, history.history['val_loss'])\n",
    "  plt.title('Model loss')\n",
    "  plt.ylabel('Loss')\n",
    "  plt.xlabel('Epoch')\n",
    "  plt.legend(['Train', 'Val'], loc='upper left')\n",
    "  plt.show()"
   ]
  },
  {
   "cell_type": "code",
   "execution_count": 24,
   "metadata": {},
   "outputs": [
    {
     "data": {
      "image/png": "[encoded data removed]",
      "text/plain": [
       "<Figure size 640x480 with 1 Axes>"
      ]
     },
     "metadata": {},
     "output_type": "display_data"
    },
    {
     "data": {
      "image/png": "[encoded data removed]",
      "text/plain": [
       "<Figure size 640x480 with 1 Axes>"
      ]
     },
     "metadata": {},
     "output_type": "display_data"
    }
   ],
   "source": [
    "plot_learningCurve(history, 40)"
   ]
  },
  {
   "cell_type": "code",
   "execution_count": 30,
   "metadata": {},
   "outputs": [
    {
     "name": "stdout",
     "output_type": "stream",
     "text": [
      "[[0.        ]\n",
      " [0.        ]\n",
      " [0.        ]\n",
      " [0.        ]\n",
      " [0.        ]\n",
      " [0.55136794]]\n"
     ]
    }
   ],
   "source": [
    "test_X = np.array([\n",
    "    [1321.889771,1054.833008,1278.117920,-317.187561,-117.191925,643.934631,-293.195221,-117.276314,747.565552,-186.781418,57.922749,831.953430,421.568390,282.367767,645.893616],\n",
    "    [-370.724579,-181.217148,70.977104,680.856384,244.135330,425.930145,660.864990,252.465317,420.329529,582.291016,273.523987,348.257385,418.830933,280.534210,641.699524],\n",
    "    [1174.421509,811.148682,1237.666992,-340.420105,-245.926758,529.321777,-366.678040,-255.753250,494.149170,418.830933,280.534210,641.699524,418.830933,280.534210,641.699524],\n",
    "    [615.333618,427.486267,789.206970,328.846710,47.515835,485.224457,283.617737,39.852085,444.249359,421.568390,282.367767,645.893616,421.568390,282.367767,645.893616],\n",
    "    [421.568390,282.367767,645.893616,761.635010,301.182281,498.242401,711.948303,304.129578,468.107452,421.568390,282.367767,645.893616,421.568390,282.367767,645.893616],\n",
    "    [0,0,0,0,0,0,0,0,0,0,0,0,0,0,0]\n",
    "])\n",
    "Y = model.predict_on_batch(test_X)\n",
    "print(Y)"
   ]
  },
  {
   "cell_type": "code",
   "execution_count": 26,
   "metadata": {},
   "outputs": [
    {
     "name": "stdout",
     "output_type": "stream",
     "text": [
      "1/1 [==============================] - 0s 40ms/step\n",
      "[[1.]]\n"
     ]
    },
    {
     "name": "stderr",
     "output_type": "stream",
     "text": [
      "2022-11-20 14:39:43.553332: I tensorflow/core/grappler/optimizers/custom_graph_optimizer_registry.cc:114] Plugin optimizer for device_type GPU is enabled.\n"
     ]
    }
   ],
   "source": [
    "test_X = np.array([\n",
    "    [-371.472626,-270.972260,-142.165512,-33.497070,-232.640335,-80.189026,160.922134,-66.725060,54.446323,238.968887,23.842035,79.471870,418.830933,280.534210,641.699524],\n",
    "])\n",
    "Y = model.predict(test_X)\n",
    "print(Y)"
   ]
  },
  {
   "cell_type": "code",
   "execution_count": 27,
   "metadata": {},
   "outputs": [
    {
     "name": "stdout",
     "output_type": "stream",
     "text": [
      "1/1 [==============================] - 0s 44ms/step\n",
      "[[0.55136794]]\n"
     ]
    },
    {
     "name": "stderr",
     "output_type": "stream",
     "text": [
      "2022-11-20 14:39:44.858905: I tensorflow/core/grappler/optimizers/custom_graph_optimizer_registry.cc:114] Plugin optimizer for device_type GPU is enabled.\n"
     ]
    }
   ],
   "source": [
    "test_X = np.array([\n",
    "        [0,0,0,0,0,0,0,0,0,0,0,0,0,0,0]\n",
    "])\n",
    "Y = model.predict(test_X)\n",
    "print(Y)"
   ]
  },
  {
   "cell_type": "code",
   "execution_count": 28,
   "metadata": {},
   "outputs": [
    {
     "name": "stdout",
     "output_type": "stream",
     "text": [
      "INFO:tensorflow:Assets written to: /var/folders/fx/5gyl_pgs2094_xlx9szcscp00000gn/T/tmplyd8th1f/assets\n"
     ]
    },
    {
     "name": "stderr",
     "output_type": "stream",
     "text": [
      "/Users/csabakoos/miniforge3/envs/tf/lib/python3.9/site-packages/tensorflow/lite/python/convert.py:766: UserWarning: Statistics for quantized inputs were expected, but not specified; continuing anyway.\n",
      "  warnings.warn(\"Statistics for quantized inputs were expected, but not \"\n",
      "2022-11-20 14:42:30.259587: W tensorflow/compiler/mlir/lite/python/tf_tfl_flatbuffer_helpers.cc:362] Ignored output_format.\n",
      "2022-11-20 14:42:30.259602: W tensorflow/compiler/mlir/lite/python/tf_tfl_flatbuffer_helpers.cc:365] Ignored drop_control_dependency.\n",
      "2022-11-20 14:42:30.260136: I tensorflow/cc/saved_model/reader.cc:45] Reading SavedModel from: /var/folders/fx/5gyl_pgs2094_xlx9szcscp00000gn/T/tmplyd8th1f\n",
      "2022-11-20 14:42:30.260878: I tensorflow/cc/saved_model/reader.cc:89] Reading meta graph with tags { serve }\n",
      "2022-11-20 14:42:30.260886: I tensorflow/cc/saved_model/reader.cc:130] Reading SavedModel debug info (if present) from: /var/folders/fx/5gyl_pgs2094_xlx9szcscp00000gn/T/tmplyd8th1f\n",
      "2022-11-20 14:42:30.263158: I tensorflow/compiler/mlir/mlir_graph_optimization_pass.cc:354] MLIR V1 optimization pass is not enabled\n",
      "2022-11-20 14:42:30.263707: I tensorflow/cc/saved_model/loader.cc:229] Restoring SavedModel bundle.\n",
      "2022-11-20 14:42:30.296574: I tensorflow/cc/saved_model/loader.cc:213] Running initialization op on SavedModel bundle at path: /var/folders/fx/5gyl_pgs2094_xlx9szcscp00000gn/T/tmplyd8th1f\n",
      "2022-11-20 14:42:30.301974: I tensorflow/cc/saved_model/loader.cc:305] SavedModel load for tags { serve }; Status: success: OK. Took 41838 microseconds.\n",
      "2022-11-20 14:42:30.329087: I tensorflow/compiler/mlir/tensorflow/utils/dump_mlir_util.cc:268] disabling MLIR crash reproducer, set env var `MLIR_CRASH_REPRODUCER_DIRECTORY` to enable.\n",
      "fully_quantize: 0, inference_type: 6, input_inference_type: FLOAT32, output_inference_type: FLOAT32\n"
     ]
    },
    {
     "data": {
      "text/plain": [
       "2020"
      ]
     },
     "execution_count": 28,
     "metadata": {},
     "output_type": "execute_result"
    }
   ],
   "source": [
    "converter = tf.lite.TFLiteConverter.from_keras_model(model)\n",
    "converter.optimizations = [tf.lite.Optimize.DEFAULT]\n",
    "def representative_dataset_gen():\n",
    "    for _ in range(10000):\n",
    "        yield [\n",
    "            np.array(\n",
    "                [np.random.uniform(), np.random.uniform()]\n",
    "            , dtype=np.float32)\n",
    "        ]\n",
    "converter.representative_dataset = representative_dataset_gen\n",
    "converter.target_spec.supported_ops = [tf.lite.OpsSet.TFLITE_BUILTINS_INT8]\n",
    "tflite_quant_model = converter.convert()\n",
    "open(\"converted_model.tflite\", \"wb\").write(tflite_quant_model)"
   ]
  },
  {
   "cell_type": "code",
   "execution_count": null,
   "metadata": {},
   "outputs": [],
   "source": [
    "# xxd -i converted_model.tflite > model_data.cc"
   ]
  }
 ],
 "metadata": {
  "kernelspec": {
   "display_name": "Python 3 (ipykernel)",
   "language": "python",
   "name": "python3"
  },
  "language_info": {
   "codemirror_mode": {
    "name": "ipython",
    "version": 3
   },
   "file_extension": ".py",
   "mimetype": "text/x-python",
   "name": "python",
   "nbconvert_exporter": "python",
   "pygments_lexer": "ipython3",
   "version": "3.9.13"
  }
 },
 "nbformat": 4,
 "nbformat_minor": 4
}
