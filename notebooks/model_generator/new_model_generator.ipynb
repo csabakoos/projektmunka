{
 "cells": [
  {
   "cell_type": "code",
   "execution_count": 49,
   "metadata": {},
   "outputs": [],
   "source": [
    "import tensorflow as tf\n",
    "from tensorflow.keras.models import Sequential\n",
    "from tensorflow.keras.layers import Dense, Flatten\n",
    "from keras.utils import to_categorical\n",
    "from tensorflow.keras import Input\n",
    "from tensorflow.data import Dataset\n",
    "import pandas as pd\n",
    "import numpy as np\n",
    "import itertools\n",
    "import csv\n",
    "from sklearn import metrics\n",
    "from sklearn.model_selection import train_test_split\n",
    "from sklearn.preprocessing import StandardScaler, LabelEncoder\n",
    "import matplotlib.pyplot as plt"
   ]
  },
  {
   "cell_type": "code",
   "execution_count": 50,
   "metadata": {},
   "outputs": [
    {
     "data": {
      "text/plain": [
       "527"
      ]
     },
     "execution_count": 50,
     "metadata": {},
     "output_type": "execute_result"
    }
   ],
   "source": [
    "df = pd.read_csv('new_way.csv')\n",
    "df['action'].count()"
   ]
  },
  {
   "cell_type": "code",
   "execution_count": 51,
   "metadata": {},
   "outputs": [],
   "source": [
    "x = df.drop('action',axis=1)\n",
    "y = df.action"
   ]
  },
  {
   "cell_type": "code",
   "execution_count": 52,
   "metadata": {},
   "outputs": [],
   "source": [
    "lb = LabelEncoder()\n",
    "y = lb.fit_transform(y)\n",
    "df['label'] = y"
   ]
  },
  {
   "cell_type": "code",
   "execution_count": 53,
   "metadata": {},
   "outputs": [
    {
     "data": {
      "text/plain": [
       "array(['boink', 'fel', 'nine', 'zero'], dtype=object)"
      ]
     },
     "execution_count": 53,
     "metadata": {},
     "output_type": "execute_result"
    }
   ],
   "source": [
    "lb.classes_"
   ]
  },
  {
   "cell_type": "code",
   "execution_count": 54,
   "metadata": {},
   "outputs": [],
   "source": [
    "x_train, x_test, y_train, y_test = train_test_split(x, y, test_size = 0.2, random_state = 0, stratify = y)"
   ]
  },
  {
   "cell_type": "code",
   "execution_count": 55,
   "metadata": {},
   "outputs": [],
   "source": [
    "y_train = to_categorical(y_train)\n",
    "y_test = to_categorical(y_test)"
   ]
  },
  {
   "cell_type": "code",
   "execution_count": 56,
   "metadata": {},
   "outputs": [
    {
     "data": {
      "text/plain": [
       "((421, 15), (106, 15), (421, 4), (106, 4))"
      ]
     },
     "execution_count": 56,
     "metadata": {},
     "output_type": "execute_result"
    }
   ],
   "source": [
    "x_train.shape, x_test.shape, y_train.shape, y_test.shape"
   ]
  },
  {
   "cell_type": "code",
   "execution_count": 57,
   "metadata": {},
   "outputs": [],
   "source": [
    "model = Sequential()\n",
    "model.add(Input(shape=(15)))\n",
    "model.add(Dense(32, activation='relu'))\n",
    "model.add(Dense(y_train.shape[1], activation=\"softmax\"))"
   ]
  },
  {
   "cell_type": "code",
   "execution_count": 58,
   "metadata": {
    "tags": []
   },
   "outputs": [
    {
     "name": "stdout",
     "output_type": "stream",
     "text": [
      "Model: \"sequential_4\"\n",
      "_________________________________________________________________\n",
      " Layer (type)                Output Shape              Param #   \n",
      "=================================================================\n",
      " dense_8 (Dense)             (None, 32)                512       \n",
      "                                                                 \n",
      " dense_9 (Dense)             (None, 4)                 132       \n",
      "                                                                 \n",
      "=================================================================\n",
      "Total params: 644\n",
      "Trainable params: 644\n",
      "Non-trainable params: 0\n",
      "_________________________________________________________________\n"
     ]
    }
   ],
   "source": [
    "model.compile(optimizer='adam',\n",
    "              loss=tf.keras.losses.CategoricalCrossentropy(),\n",
    "              metrics=['accuracy'])\n",
    "\n",
    "model.summary()"
   ]
  },
  {
   "cell_type": "code",
   "execution_count": 59,
   "metadata": {},
   "outputs": [
    {
     "name": "stdout",
     "output_type": "stream",
     "text": [
      "Epoch 1/40\n",
      "5/5 [==============================] - ETA: 0s - loss: 0.9279 - accuracy: 0.9050"
     ]
    },
    {
     "name": "stderr",
     "output_type": "stream",
     "text": [
      "2022-11-21 20:37:29.327280: I tensorflow/core/grappler/optimizers/custom_graph_optimizer_registry.cc:114] Plugin optimizer for device_type GPU is enabled.\n"
     ]
    },
    {
     "name": "stdout",
     "output_type": "stream",
     "text": [
      "5/5 [==============================] - 0s 52ms/step - loss: 0.9279 - accuracy: 0.9050 - val_loss: 0.3122 - val_accuracy: 1.0000\n",
      "Epoch 2/40\n",
      "5/5 [==============================] - 0s 21ms/step - loss: 0.5987 - accuracy: 0.9976 - val_loss: 0.3105 - val_accuracy: 1.0000\n",
      "Epoch 3/40\n",
      "1/5 [=====>........................] - ETA: 0s - loss: 0.2420 - accuracy: 1.0000"
     ]
    },
    {
     "name": "stderr",
     "output_type": "stream",
     "text": [
      "2022-11-21 20:37:29.541094: I tensorflow/core/grappler/optimizers/custom_graph_optimizer_registry.cc:114] Plugin optimizer for device_type GPU is enabled.\n"
     ]
    },
    {
     "name": "stdout",
     "output_type": "stream",
     "text": [
      "5/5 [==============================] - 0s 21ms/step - loss: 0.3222 - accuracy: 0.9976 - val_loss: 0.3088 - val_accuracy: 1.0000\n",
      "Epoch 4/40\n",
      "5/5 [==============================] - 0s 21ms/step - loss: 0.3039 - accuracy: 1.0000 - val_loss: 0.3071 - val_accuracy: 1.0000\n",
      "Epoch 5/40\n",
      "5/5 [==============================] - 0s 21ms/step - loss: 0.3022 - accuracy: 1.0000 - val_loss: 0.3054 - val_accuracy: 1.0000\n",
      "Epoch 6/40\n",
      "5/5 [==============================] - 0s 20ms/step - loss: 0.3005 - accuracy: 1.0000 - val_loss: 0.3037 - val_accuracy: 1.0000\n",
      "Epoch 7/40\n",
      "5/5 [==============================] - 0s 21ms/step - loss: 0.2989 - accuracy: 1.0000 - val_loss: 0.3020 - val_accuracy: 1.0000\n",
      "Epoch 8/40\n",
      "5/5 [==============================] - 0s 20ms/step - loss: 0.2971 - accuracy: 1.0000 - val_loss: 0.3003 - val_accuracy: 1.0000\n",
      "Epoch 9/40\n",
      "5/5 [==============================] - 0s 20ms/step - loss: 0.2955 - accuracy: 1.0000 - val_loss: 0.2986 - val_accuracy: 1.0000\n",
      "Epoch 10/40\n",
      "5/5 [==============================] - 0s 21ms/step - loss: 0.2938 - accuracy: 1.0000 - val_loss: 0.2969 - val_accuracy: 1.0000\n",
      "Epoch 11/40\n",
      "5/5 [==============================] - 0s 21ms/step - loss: 0.2921 - accuracy: 1.0000 - val_loss: 0.2952 - val_accuracy: 1.0000\n",
      "Epoch 12/40\n",
      "5/5 [==============================] - 0s 21ms/step - loss: 0.2905 - accuracy: 1.0000 - val_loss: 0.2934 - val_accuracy: 1.0000\n",
      "Epoch 13/40\n",
      "5/5 [==============================] - 0s 24ms/step - loss: 0.2887 - accuracy: 1.0000 - val_loss: 0.2917 - val_accuracy: 1.0000\n",
      "Epoch 14/40\n",
      "5/5 [==============================] - 0s 21ms/step - loss: 0.2871 - accuracy: 1.0000 - val_loss: 0.2900 - val_accuracy: 1.0000\n",
      "Epoch 15/40\n",
      "5/5 [==============================] - 0s 20ms/step - loss: 0.2853 - accuracy: 1.0000 - val_loss: 0.2882 - val_accuracy: 1.0000\n",
      "Epoch 16/40\n",
      "5/5 [==============================] - 0s 23ms/step - loss: 0.2836 - accuracy: 1.0000 - val_loss: 0.2865 - val_accuracy: 1.0000\n",
      "Epoch 17/40\n",
      "5/5 [==============================] - 0s 23ms/step - loss: 0.2818 - accuracy: 1.0000 - val_loss: 0.2848 - val_accuracy: 1.0000\n",
      "Epoch 18/40\n",
      "5/5 [==============================] - 0s 26ms/step - loss: 0.2802 - accuracy: 1.0000 - val_loss: 0.2830 - val_accuracy: 1.0000\n",
      "Epoch 19/40\n",
      "5/5 [==============================] - 0s 20ms/step - loss: 0.2784 - accuracy: 1.0000 - val_loss: 0.2813 - val_accuracy: 1.0000\n",
      "Epoch 20/40\n",
      "5/5 [==============================] - 0s 21ms/step - loss: 0.2767 - accuracy: 1.0000 - val_loss: 0.2795 - val_accuracy: 1.0000\n",
      "Epoch 21/40\n",
      "5/5 [==============================] - 0s 20ms/step - loss: 0.2750 - accuracy: 1.0000 - val_loss: 0.2777 - val_accuracy: 1.0000\n",
      "Epoch 22/40\n",
      "5/5 [==============================] - 0s 21ms/step - loss: 0.2732 - accuracy: 1.0000 - val_loss: 0.2759 - val_accuracy: 1.0000\n",
      "Epoch 23/40\n",
      "5/5 [==============================] - 0s 21ms/step - loss: 0.2714 - accuracy: 1.0000 - val_loss: 0.2741 - val_accuracy: 1.0000\n",
      "Epoch 24/40\n",
      "5/5 [==============================] - 0s 21ms/step - loss: 0.2696 - accuracy: 1.0000 - val_loss: 0.2724 - val_accuracy: 1.0000\n",
      "Epoch 25/40\n",
      "5/5 [==============================] - 0s 21ms/step - loss: 0.2679 - accuracy: 1.0000 - val_loss: 0.2706 - val_accuracy: 1.0000\n",
      "Epoch 26/40\n",
      "5/5 [==============================] - 0s 21ms/step - loss: 0.2662 - accuracy: 1.0000 - val_loss: 0.2688 - val_accuracy: 1.0000\n",
      "Epoch 27/40\n",
      "5/5 [==============================] - 0s 23ms/step - loss: 0.2644 - accuracy: 1.0000 - val_loss: 0.2670 - val_accuracy: 1.0000\n",
      "Epoch 28/40\n",
      "5/5 [==============================] - 0s 21ms/step - loss: 0.2626 - accuracy: 1.0000 - val_loss: 0.2652 - val_accuracy: 1.0000\n",
      "Epoch 29/40\n",
      "5/5 [==============================] - 0s 21ms/step - loss: 0.2607 - accuracy: 1.0000 - val_loss: 0.2634 - val_accuracy: 1.0000\n",
      "Epoch 30/40\n",
      "5/5 [==============================] - 0s 21ms/step - loss: 0.2591 - accuracy: 1.0000 - val_loss: 0.2616 - val_accuracy: 1.0000\n",
      "Epoch 31/40\n",
      "5/5 [==============================] - 0s 22ms/step - loss: 0.2574 - accuracy: 1.0000 - val_loss: 0.2597 - val_accuracy: 1.0000\n",
      "Epoch 32/40\n",
      "5/5 [==============================] - 0s 21ms/step - loss: 0.2554 - accuracy: 1.0000 - val_loss: 0.2579 - val_accuracy: 1.0000\n",
      "Epoch 33/40\n",
      "5/5 [==============================] - 0s 21ms/step - loss: 0.2537 - accuracy: 1.0000 - val_loss: 0.2561 - val_accuracy: 1.0000\n",
      "Epoch 34/40\n",
      "5/5 [==============================] - 0s 21ms/step - loss: 0.2518 - accuracy: 1.0000 - val_loss: 0.2543 - val_accuracy: 1.0000\n",
      "Epoch 35/40\n",
      "5/5 [==============================] - 0s 21ms/step - loss: 0.2501 - accuracy: 1.0000 - val_loss: 0.2525 - val_accuracy: 1.0000\n",
      "Epoch 36/40\n",
      "5/5 [==============================] - 0s 22ms/step - loss: 0.2482 - accuracy: 1.0000 - val_loss: 0.2507 - val_accuracy: 1.0000\n",
      "Epoch 37/40\n",
      "5/5 [==============================] - 0s 22ms/step - loss: 0.2465 - accuracy: 1.0000 - val_loss: 0.2488 - val_accuracy: 1.0000\n",
      "Epoch 38/40\n",
      "5/5 [==============================] - 0s 21ms/step - loss: 0.2447 - accuracy: 1.0000 - val_loss: 0.2470 - val_accuracy: 1.0000\n",
      "Epoch 39/40\n",
      "5/5 [==============================] - 0s 21ms/step - loss: 0.2429 - accuracy: 1.0000 - val_loss: 0.2452 - val_accuracy: 1.0000\n",
      "Epoch 40/40\n",
      "5/5 [==============================] - 0s 21ms/step - loss: 0.2410 - accuracy: 1.0000 - val_loss: 0.2433 - val_accuracy: 1.0000\n"
     ]
    }
   ],
   "source": [
    "history = model.fit(\n",
    "    x_train,\n",
    "    y_train,\n",
    "    steps_per_epoch = 5,\n",
    "    epochs = 40,\n",
    "    validation_data = (x_test, y_test),\n",
    "    verbose=1\n",
    ")"
   ]
  },
  {
   "cell_type": "code",
   "execution_count": 60,
   "metadata": {},
   "outputs": [],
   "source": [
    "def plot_learningCurve(history, epochs):\n",
    "  # Plot training & validation accuracy values\n",
    "  epoch_range = range(1, epochs+1)\n",
    "  plt.plot(epoch_range, history.history['accuracy'])\n",
    "  plt.plot(epoch_range, history.history['val_accuracy'])\n",
    "  plt.title('Model accuracy')\n",
    "  plt.ylabel('Accuracy')\n",
    "  plt.xlabel('Epoch')\n",
    "  plt.legend(['Train', 'Val'], loc='upper left')\n",
    "  plt.show()\n",
    "\n",
    "  # Plot training & validation loss values\n",
    "  plt.plot(epoch_range, history.history['loss'])\n",
    "  plt.plot(epoch_range, history.history['val_loss'])\n",
    "  plt.title('Model loss')\n",
    "  plt.ylabel('Loss')\n",
    "  plt.xlabel('Epoch')\n",
    "  plt.legend(['Train', 'Val'], loc='upper left')\n",
    "  plt.show()"
   ]
  },
  {
   "cell_type": "code",
   "execution_count": 61,
   "metadata": {},
   "outputs": [
    {
     "data": {
      "image/png": "[encoded data removed]",
      "text/plain": [
       "<Figure size 640x480 with 1 Axes>"
      ]
     },
     "metadata": {},
     "output_type": "display_data"
    },
    {
     "data": {
      "image/png": "[encoded data removed]",
      "text/plain": [
       "<Figure size 640x480 with 1 Axes>"
      ]
     },
     "metadata": {},
     "output_type": "display_data"
    }
   ],
   "source": [
    "plot_learningCurve(history, 40)"
   ]
  },
  {
   "cell_type": "code",
   "execution_count": 62,
   "metadata": {},
   "outputs": [
    {
     "name": "stdout",
     "output_type": "stream",
     "text": [
      "WARNING:tensorflow:5 out of the last 5 calls to <function Model.make_predict_function.<locals>.predict_function at 0x11c6b5f70> triggered tf.function retracing. Tracing is expensive and the excessive number of tracings could be due to (1) creating @tf.function repeatedly in a loop, (2) passing tensors with different shapes, (3) passing Python objects instead of tensors. For (1), please define your @tf.function outside of the loop. For (2), @tf.function has reduce_retracing=True option that can avoid unnecessary retracing. For (3), please refer to https://www.tensorflow.org/guide/function#controlling_retracing and https://www.tensorflow.org/api_docs/python/tf/function for  more details.\n"
     ]
    },
    {
     "name": "stderr",
     "output_type": "stream",
     "text": [
      "2022-11-21 20:37:38.874801: I tensorflow/core/grappler/optimizers/custom_graph_optimizer_registry.cc:114] Plugin optimizer for device_type GPU is enabled.\n",
      "WARNING:tensorflow:5 out of the last 5 calls to <function Model.make_predict_function.<locals>.predict_function at 0x11c6b5f70> triggered tf.function retracing. Tracing is expensive and the excessive number of tracings could be due to (1) creating @tf.function repeatedly in a loop, (2) passing tensors with different shapes, (3) passing Python objects instead of tensors. For (1), please define your @tf.function outside of the loop. For (2), @tf.function has reduce_retracing=True option that can avoid unnecessary retracing. For (3), please refer to https://www.tensorflow.org/guide/function#controlling_retracing and https://www.tensorflow.org/api_docs/python/tf/function for  more details.\n"
     ]
    },
    {
     "name": "stdout",
     "output_type": "stream",
     "text": [
      "[[  0.     100.       0.       0.    ]\n",
      " [100.       0.       0.       0.    ]\n",
      " [  0.     100.       0.       0.    ]\n",
      " [ 21.2568  23.9208  20.6851  34.1373]\n",
      " [100.       0.       0.       0.    ]\n",
      " [100.       0.       0.       0.    ]\n",
      " [100.       0.       0.       0.    ]\n",
      " [ 21.2568  23.9208  20.6851  34.1373]\n",
      " [100.       0.       0.       0.    ]\n",
      " [100.       0.       0.       0.    ]\n",
      " [ 21.2568  23.9208  20.6851  34.1373]\n",
      " [100.       0.       0.       0.    ]\n",
      " [100.       0.       0.       0.    ]\n",
      " [100.       0.       0.       0.    ]\n",
      " [100.       0.       0.       0.    ]\n",
      " [ 21.2568  23.9208  20.6851  34.1373]\n",
      " [100.       0.       0.       0.    ]\n",
      " [100.       0.       0.       0.    ]\n",
      " [  0.     100.       0.       0.    ]\n",
      " [  0.     100.       0.       0.    ]\n",
      " [  0.     100.       0.       0.    ]\n",
      " [  0.       0.     100.       0.    ]\n",
      " [  0.       0.     100.       0.    ]\n",
      " [  0.       0.     100.       0.    ]\n",
      " [  0.       0.     100.       0.    ]\n",
      " [  0.       0.     100.       0.    ]\n",
      " [  0.       0.     100.       0.    ]]\n"
     ]
    }
   ],
   "source": [
    "test_X = np.array([\n",
    "    [-406.325867,-327.913513,-169.621292,-105.695808,-266.762054,-112.666458,68.620850,-135.545349,3.377147,180.597488,-28.868486,43.224567,418.830933,280.534210,641.699524],\n",
    "    [1320.943481,1054.197388,1277.395508,-316.596161,-115.715225,645.914490,-293.359589,-117.338379,746.761230,-185.270874,60.773712,834.030273,421.568390,282.367767,645.893616],\n",
    "    [-383.235077,-311.100037,-197.631592,-107.004318,-235.231262,-116.203461,421.568390,282.367767,645.893616,421.568390,282.367767,645.893616,421.568390,282.367767,645.893616],\n",
    "    [0,0,0,0,0,0,0,0,0,0,0,0,0,0,0],\n",
    "    [1321.087402,1054.216675,1277.468872,-317.182556,-117.585640,643.408936,-293.577362,-117.764130,746.351929,-187.409271,56.366665,831.326477,421.568390,282.367767,645.893616],\n",
    "    [1312.798584,1047.551392,1269.233154,-315.396240,-117.270004,638.171997,-291.300446,-116.279694,742.242371,-186.199646,56.229809,825.841125,418.830933,280.534210,641.699524],\n",
    "    [1312.811523,1047.273438,1269.202637,-315.684814,-117.178726,638.912842,-290.455994,-115.492928,743.165222,-186.414749,55.449490,825.548950,418.830933,280.534210,641.699524],\n",
    "    [0,0,0,0,0,0,0,0,0,0,0,0,0,0,0],\n",
    "    [1312.833130,1047.422729,1269.133179,-315.423615,-117.150795,639.403870,-290.824249,-116.106712,742.619629,-186.572784,55.422165,825.221924,418.830933,280.534210,641.699524],\n",
    "    [1321.549316,1046.301880,1277.417969,-351.697235,-175.049469,563.982727,-309.408997,-121.954727,722.247742,-218.011322,25.565254,782.218262,421.568390,282.367767,645.893616],\n",
    "    [0,0,0,0,0,0,0,0,0,0,0,0,0,0,0],\n",
    "    [1316.986938,1036.482056,1274.795288,-365.841003,-200.822876,520.388123,-314.164551,-122.020241,707.959534,-229.205444,17.490072,759.195312,418.830933,280.534210,641.699524],\n",
    "    [1327.660156,1043.612183,1287.544922,-371.495026,-206.819122,515.230835,-318.456543,-121.864571,709.689758,-232.852890,17.775621,759.463318,421.568390,282.367767,645.893616],\n",
    "    [1320.145386,1036.028320,1280.863159,-372.233978,-209.604691,506.293121,-318.277252,-122.168648,701.931641,-233.700394,15.901367,750.742249,418.830933,280.534210,641.699524],\n",
    "    [1320.010376,1035.806519,1280.243164,-373.965454,-210.666306,506.634094,-317.075134,-120.870102,703.736511,-234.436981,15.467718,750.518066,418.830933,280.534210,641.699524],\n",
    "    [0,0,0,0,0,0,0,0,0,0,0,0,0,0,0],\n",
    "    [1322.411011,1035.252319,1275.233398,-368.881866,-204.410355,524.392639,-316.768860,-125.999161,711.618896,-233.246735,10.529224,760.487915,421.568390,282.367767,645.893616],\n",
    "    [1314.253906,1026.764648,1257.505493,-362.358154,-196.420059,542.371033,-312.217865,-129.137466,718.170227,-230.745117,3.968786,766.347595,421.568390,282.367767,645.893616],\n",
    "    [-370.806702,-296.183807,-180.345581,-110.419876,-240.254776,-118.526176,421.568390,282.367767,645.893616,421.568390,282.367767,645.893616,421.568390,282.367767,645.893616],\n",
    "    [-371.306366,-294.510223,-181.938309,-130.909012,-249.784012,-132.658234,421.568390,282.367767,645.893616,421.568390,282.367767,645.893616,421.568390,282.367767,645.893616],\n",
    "    [-383.235077,-311.100037,-197.631592,-107.004318,-235.231262,-116.203461,421.568390,282.367767,645.893616,421.568390,282.367767,645.893616,421.568390,282.367767,645.893616],\n",
    "    [999,-999,999,-999,999,-999,999,-999,999,-999,999,-999,999,-999,999],\n",
    "    [999,-999,999,-999,999,-999,999,-999,999,-999,999,-999,999,-999,999],\n",
    "    [999,-999,999,-999,999,-999,999,-999,999,-999,999,-999,999,-999,999],\n",
    "    [999,-999,999,-999,999,-999,999,-999,999,-999,999,-999,999,-999,999],\n",
    "    [999,-999,999,-999,999,-999,999,-999,999,-999,999,-999,999,-999,999],\n",
    "    [999,-999,999,-999,999,-999,999,-999,999,-999,999,-999,999,-999,999]\n",
    "])\n",
    "np.set_printoptions(precision=4)\n",
    "np.set_printoptions(suppress=True)\n",
    "Y = model.predict_on_batch(test_X)\n",
    "print(Y*100)\n",
    "# array(['boink', 'fel', 'zero'], dtype=object)"
   ]
  },
  {
   "cell_type": "code",
   "execution_count": 63,
   "metadata": {},
   "outputs": [
    {
     "name": "stdout",
     "output_type": "stream",
     "text": [
      "INFO:tensorflow:Assets written to: /var/folders/fx/5gyl_pgs2094_xlx9szcscp00000gn/T/tmpuf3d513m/assets\n"
     ]
    },
    {
     "name": "stderr",
     "output_type": "stream",
     "text": [
      "INFO:tensorflow:Assets written to: /var/folders/fx/5gyl_pgs2094_xlx9szcscp00000gn/T/tmpuf3d513m/assets\n",
      "/Users/csabakoos/miniforge3/envs/tf/lib/python3.9/site-packages/tensorflow/lite/python/convert.py:766: UserWarning: Statistics for quantized inputs were expected, but not specified; continuing anyway.\n",
      "  warnings.warn(\"Statistics for quantized inputs were expected, but not \"\n",
      "2022-11-21 20:38:24.578224: W tensorflow/compiler/mlir/lite/python/tf_tfl_flatbuffer_helpers.cc:362] Ignored output_format.\n",
      "2022-11-21 20:38:24.578238: W tensorflow/compiler/mlir/lite/python/tf_tfl_flatbuffer_helpers.cc:365] Ignored drop_control_dependency.\n",
      "2022-11-21 20:38:24.578337: I tensorflow/cc/saved_model/reader.cc:45] Reading SavedModel from: /var/folders/fx/5gyl_pgs2094_xlx9szcscp00000gn/T/tmpuf3d513m\n",
      "2022-11-21 20:38:24.579093: I tensorflow/cc/saved_model/reader.cc:89] Reading meta graph with tags { serve }\n",
      "2022-11-21 20:38:24.579101: I tensorflow/cc/saved_model/reader.cc:130] Reading SavedModel debug info (if present) from: /var/folders/fx/5gyl_pgs2094_xlx9szcscp00000gn/T/tmpuf3d513m\n",
      "2022-11-21 20:38:24.581441: I tensorflow/cc/saved_model/loader.cc:229] Restoring SavedModel bundle.\n",
      "2022-11-21 20:38:24.606720: I tensorflow/cc/saved_model/loader.cc:213] Running initialization op on SavedModel bundle at path: /var/folders/fx/5gyl_pgs2094_xlx9szcscp00000gn/T/tmpuf3d513m\n",
      "2022-11-21 20:38:24.612014: I tensorflow/cc/saved_model/loader.cc:305] SavedModel load for tags { serve }; Status: success: OK. Took 33678 microseconds.\n",
      "fully_quantize: 0, inference_type: 6, input_inference_type: FLOAT32, output_inference_type: FLOAT32\n"
     ]
    },
    {
     "data": {
      "text/plain": [
       "4284"
      ]
     },
     "execution_count": 63,
     "metadata": {},
     "output_type": "execute_result"
    }
   ],
   "source": [
    "converter = tf.lite.TFLiteConverter.from_keras_model(model)\n",
    "converter.optimizations = [tf.lite.Optimize.DEFAULT]\n",
    "def representative_dataset_gen():\n",
    "    for _ in range(10000):\n",
    "        yield [\n",
    "            np.array(\n",
    "                [np.random.uniform(), np.random.uniform()]\n",
    "            , dtype=np.float32)\n",
    "        ]\n",
    "converter.representative_dataset = representative_dataset_gen\n",
    "converter.target_spec.supported_ops = [tf.lite.OpsSet.TFLITE_BUILTINS_INT8]\n",
    "tflite_quant_model = converter.convert()\n",
    "open(\"converted_model.tflite\", \"wb\").write(tflite_quant_model)"
   ]
  },
  {
   "cell_type": "code",
   "execution_count": null,
   "metadata": {},
   "outputs": [],
   "source": [
    "# xxd -i converted_model.tflite > model_data.cc"
   ]
  }
 ],
 "metadata": {
  "kernelspec": {
   "display_name": "Python 3 (ipykernel)",
   "language": "python",
   "name": "python3"
  },
  "language_info": {
   "codemirror_mode": {
    "name": "ipython",
    "version": 3
   },
   "file_extension": ".py",
   "mimetype": "text/x-python",
   "name": "python",
   "nbconvert_exporter": "python",
   "pygments_lexer": "ipython3",
   "version": "3.9.13"
  }
 },
 "nbformat": 4,
 "nbformat_minor": 4
}
