{
 "cells": [
  {
   "cell_type": "code",
   "execution_count": null,
   "id": "1ad090c7-cbb1-4ed7-96e9-84aba51381be",
   "metadata": {},
   "outputs": [],
   "source": [
    "import tensorflow as tf\n",
    "from tensorflow.keras import Sequential\n",
    "from tensorflow.keras.layers import Flatten, Dense, Dropout, BatchNormalization\n",
    "from tensorflow.keras.layers import Conv2D, MaxPool2D\n",
    "from tensorflow.keras.optimizers import Adam\n",
    "print(tf.__version__)"
   ]
  },
  {
   "cell_type": "code",
   "execution_count": null,
   "id": "0bc8c1a4-cba6-4c1d-a4da-de7b680383c3",
   "metadata": {},
   "outputs": [],
   "source": [
    "import pandas as pd\n",
    "import numpy as np\n",
    "import matplotlib.pyplot as plt\n",
    "import csv\n",
    "from sklearn.model_selection import train_test_split\n",
    "from sklearn.preprocessing import StandardScaler, LabelEncoder"
   ]
  },
  {
   "cell_type": "code",
   "execution_count": null,
   "id": "1a932a20-ebe6-4c8c-9e65-fcfe8a27ceb2",
   "metadata": {},
   "outputs": [],
   "source": [
    "results = []\n",
    "with open(\"../serial_collector/x.csv\") as csvfile:\n",
    "    reader = csv.reader(csvfile, quoting=csv.QUOTE_NONE) # change contents to floats\n",
    "    for row in reader: # each row is a list\n",
    "        results.append(row)\n",
    "\n",
    "dataset = results\n",
    "columns = ['action',\n",
    "           'accelX1', 'accelY1', 'accelZ1', 'gyroX1', 'gyroY1', 'gyroZ1',\n",
    "           'accelX2', 'accelY2', 'accelZ2', 'gyroX2', 'gyroY2', 'gyroZ2',\n",
    "           'accelX3', 'accelY3', 'accelZ3', 'gyroX3', 'gyroY3', 'gyroZ3',\n",
    "           'accelX4', 'accelY4', 'accelZ4', 'gyroX4', 'gyroY4', 'gyroZ4',\n",
    "           'accelX5', 'accelY5', 'accelZ5', 'gyroX5', 'gyroY5', 'gyroZ5']\n",
    "data = pd.DataFrame(data = dataset, columns = columns)\n",
    "data"
   ]
  },
  {
   "cell_type": "code",
   "execution_count": null,
   "id": "b35cbd08-8614-4c2c-9069-cfb362d2b6da",
   "metadata": {},
   "outputs": [],
   "source": [
    "#data.shape => (x, y)\n",
    "#data has x rows and y columns.\n",
    "data.shape"
   ]
  },
  {
   "cell_type": "code",
   "execution_count": null,
   "id": "3ed09ec8-cf04-4e64-9a78-0c656b192f25",
   "metadata": {},
   "outputs": [],
   "source": [
    "data.info()"
   ]
  },
  {
   "cell_type": "code",
   "execution_count": null,
   "id": "e45600ce-e10c-4924-9930-7fed8bac9534",
   "metadata": {},
   "outputs": [],
   "source": [
    "data.isnull().sum()"
   ]
  },
  {
   "cell_type": "code",
   "execution_count": null,
   "id": "51840e80-1b53-4686-8f01-683fcfe6d149",
   "metadata": {},
   "outputs": [],
   "source": [
    "#To see the distribution of data we will see the count of each unique activity using value_counts().\n",
    "data['action'].value_counts()"
   ]
  },
  {
   "cell_type": "code",
   "execution_count": null,
   "id": "13c3380f-8616-4626-bfb6-c6af808d9dc4",
   "metadata": {},
   "outputs": [],
   "source": [
    "label = LabelEncoder()\n",
    "data['label'] = label.fit_transform(data['action'])\n",
    "data.head()"
   ]
  },
  {
   "cell_type": "code",
   "execution_count": null,
   "id": "7db03a29-6c6d-41d6-a6fc-761ff538b008",
   "metadata": {},
   "outputs": [],
   "source": [
    "label.classes_"
   ]
  },
  {
   "cell_type": "code",
   "execution_count": null,
   "id": "f79c5322-ae17-4feb-bcda-04861c3f940a",
   "metadata": {},
   "outputs": [],
   "source": [
    "X = data[['accelX1', 'accelY1', 'accelZ1','gyroX1', 'gyroY1', 'gyroZ1',\n",
    "          'accelX2', 'accelY2', 'accelZ2','gyroX2', 'gyroY2', 'gyroZ2',\n",
    "          'accelX3', 'accelY3', 'accelZ3','gyroX3', 'gyroY3', 'gyroZ3',\n",
    "          'accelX4', 'accelY4', 'accelZ4','gyroX4', 'gyroY4', 'gyroZ4',\n",
    "          'accelX5', 'accelY5', 'accelZ5','gyroX5', 'gyroY5', 'gyroZ5',]]\n",
    "y = data['label']"
   ]
  },
  {
   "cell_type": "code",
   "execution_count": null,
   "id": "53ff94a0-9234-4389-a0f2-84e08c51b03e",
   "metadata": {},
   "outputs": [],
   "source": [
    "scaler = StandardScaler()\n",
    "X = scaler.fit_transform(X)\n",
    "\n",
    "scaled_X = pd.DataFrame(data = X, columns = ['accelX1', 'accelY1', 'accelZ1','gyroX1', 'gyroY1', 'gyroZ1',\n",
    "          'accelX2', 'accelY2', 'accelZ2','gyroX2', 'gyroY2', 'gyroZ2',\n",
    "          'accelX3', 'accelY3', 'accelZ3','gyroX3', 'gyroY3', 'gyroZ3',\n",
    "          'accelX4', 'accelY4', 'accelZ4','gyroX4', 'gyroY4', 'gyroZ4',\n",
    "          'accelX5', 'accelY5', 'accelZ5','gyroX5', 'gyroY5', 'gyroZ5',])\n",
    "scaled_X['label'] = y.values\n",
    "\n",
    "scaled_X"
   ]
  },
  {
   "cell_type": "code",
   "execution_count": null,
   "id": "4f197eaf-6b44-4bbf-8df8-db5b7afe9c9f",
   "metadata": {},
   "outputs": [],
   "source": [
    "scaled_X.shape"
   ]
  },
  {
   "cell_type": "code",
   "execution_count": null,
   "id": "dec5c0a0-9098-4755-84ec-e31c66ef0368",
   "metadata": {},
   "outputs": [],
   "source": [
    "import scipy.stats as stats"
   ]
  },
  {
   "cell_type": "code",
   "execution_count": null,
   "id": "6dcd780f-284f-4df4-909b-26575ba1bb06",
   "metadata": {},
   "outputs": [],
   "source": [
    "Fs = 15\n",
    "frame_size = Fs*4\n",
    "hop_size = Fs*2"
   ]
  },
  {
   "cell_type": "code",
   "execution_count": null,
   "id": "a218129f-d633-4330-8b0d-a9e5e49df77f",
   "metadata": {},
   "outputs": [],
   "source": [
    "def get_frames(df, frame_size, hop_size):\n",
    "\n",
    "    N_FEATURES = 30\n",
    "\n",
    "    frames = []\n",
    "    labels = []\n",
    "    for i in range(0, len(df) - frame_size, hop_size):\n",
    "        ax1 = df['accelX1'].values[i: i + frame_size]\n",
    "        ay1 = df['accelY1'].values[i: i + frame_size]\n",
    "        az1 = df['accelZ1'].values[i: i + frame_size]\n",
    "        gx1 = df['gyroX1'].values[i: i + frame_size]\n",
    "        gy1 = df['gyroY1'].values[i: i + frame_size]\n",
    "        gz1 = df['gyroZ1'].values[i: i + frame_size]\n",
    "        ax2 = df['accelX2'].values[i: i + frame_size]\n",
    "        ay2 = df['accelY2'].values[i: i + frame_size]\n",
    "        az2 = df['accelZ2'].values[i: i + frame_size]\n",
    "        gx2 = df['gyroX2'].values[i: i + frame_size]\n",
    "        gy2 = df['gyroY2'].values[i: i + frame_size]\n",
    "        gz2 = df['gyroZ2'].values[i: i + frame_size]\n",
    "        ax3 = df['accelX3'].values[i: i + frame_size]\n",
    "        ay3 = df['accelY3'].values[i: i + frame_size]\n",
    "        az3 = df['accelZ3'].values[i: i + frame_size]\n",
    "        gx3 = df['gyroX3'].values[i: i + frame_size]\n",
    "        gy3 = df['gyroY3'].values[i: i + frame_size]\n",
    "        gz3 = df['gyroZ3'].values[i: i + frame_size]\n",
    "        ax4 = df['accelX4'].values[i: i + frame_size]\n",
    "        ay4 = df['accelY4'].values[i: i + frame_size]\n",
    "        az4 = df['accelZ4'].values[i: i + frame_size]\n",
    "        gx4 = df['gyroX4'].values[i: i + frame_size]\n",
    "        gy4 = df['gyroY4'].values[i: i + frame_size]\n",
    "        gz4 = df['gyroZ4'].values[i: i + frame_size]\n",
    "        ax5 = df['accelX5'].values[i: i + frame_size]\n",
    "        ay5 = df['accelY5'].values[i: i + frame_size]\n",
    "        az5 = df['accelZ5'].values[i: i + frame_size]\n",
    "        gx5 = df['gyroX5'].values[i: i + frame_size]\n",
    "        gy5 = df['gyroY5'].values[i: i + frame_size]\n",
    "        gz5 = df['gyroZ5'].values[i: i + frame_size]\n",
    "        \n",
    "        # Retrieve the most often used label in this segment\n",
    "        label = stats.mode(df['label'][i: i + frame_size])[0][0]\n",
    "        frames.append(\n",
    "            [\n",
    "                ax1, ay1, az1, gx1, gy1, gz1,\n",
    "                ax2, ay2, az2, gx2, gy2, gz2,\n",
    "                ax3, ay3, az3, gx3, gy3, gz3,\n",
    "                ax4, ay4, az4, gx4, gy4, gz4,\n",
    "                ax5, ay5, az5, gx5, gy5, gz5\n",
    "            ]\n",
    "        )\n",
    "        labels.append(label)\n",
    "\n",
    "    # Bring the segments into a better shape\n",
    "    frames = np.asarray(frames).reshape(-1, frame_size, N_FEATURES)\n",
    "    labels = np.asarray(labels)\n",
    "\n",
    "    return frames, labels\n",
    "\n",
    "X, y = get_frames(scaled_X, frame_size, hop_size)\n",
    "\n",
    "X.shape, y.shape"
   ]
  },
  {
   "cell_type": "code",
   "execution_count": null,
   "id": "0350a207-9c8f-4cb2-8d99-dba3e999a25a",
   "metadata": {},
   "outputs": [],
   "source": [
    "X[0].shape\n",
    "X[0]"
   ]
  },
  {
   "cell_type": "code",
   "execution_count": null,
   "id": "d1841f32-5351-48bd-a942-9002fac14bec",
   "metadata": {},
   "outputs": [],
   "source": [
    "X_train, X_test, y_train, y_test = train_test_split(X, y, test_size = 0.2, random_state = 0, stratify = y)"
   ]
  },
  {
   "cell_type": "code",
   "execution_count": null,
   "id": "06371507-5ad3-4559-b781-4a60c29dda74",
   "metadata": {},
   "outputs": [],
   "source": [
    "X_train.shape, X_test.shape"
   ]
  },
  {
   "cell_type": "code",
   "execution_count": null,
   "id": "5debd95c-3f5f-4af9-bcde-7b99af6f4705",
   "metadata": {},
   "outputs": [],
   "source": [
    "X_train = X_train.reshape(96, 60, 30, 1)\n",
    "X_test = X_test.reshape(25, 60, 30, 1)"
   ]
  },
  {
   "cell_type": "code",
   "execution_count": null,
   "id": "26d500bb-7918-4f73-8998-f209f60d0d50",
   "metadata": {},
   "outputs": [],
   "source": [
    "X_train.shape, X_test.shape"
   ]
  },
  {
   "cell_type": "code",
   "execution_count": null,
   "id": "bf13b63d-46c2-4f81-a30d-3ca85277c4b0",
   "metadata": {},
   "outputs": [],
   "source": [
    "X_train[0].shape"
   ]
  },
  {
   "cell_type": "code",
   "execution_count": null,
   "id": "bff4e37f-3f6b-4ccb-b593-962fc427004e",
   "metadata": {},
   "outputs": [],
   "source": [
    "model = Sequential()\n",
    "model.add(Conv2D(16, (2, 2), activation = 'relu', input_shape = X_train[0].shape))\n",
    "model.add(Dropout(0.1))\n",
    "\n",
    "model.add(Conv2D(32, (2, 2), activation='relu'))\n",
    "model.add(Dropout(0.2))\n",
    "\n",
    "model.add(Flatten())\n",
    "\n",
    "model.add(Dense(64, activation = 'relu'))\n",
    "model.add(Dropout(0.5))\n",
    "\n",
    "model.add(Dense(6, activation='softmax'))"
   ]
  },
  {
   "cell_type": "code",
   "execution_count": null,
   "id": "104f79cc-b094-410a-b8f2-bf90259bd77a",
   "metadata": {},
   "outputs": [],
   "source": [
    "model.compile(optimizer=Adam(learning_rate = 0.001), loss = 'sparse_categorical_crossentropy', metrics = ['accuracy'])\n",
    "history = model.fit(X_train, y_train, steps_per_epoch = 10, epochs = 5, validation_data= (X_test, y_test), verbose=1)"
   ]
  },
  {
   "cell_type": "code",
   "execution_count": null,
   "id": "726c3240-4114-44a7-8477-7785d9954633",
   "metadata": {},
   "outputs": [],
   "source": [
    "def plot_learningCurve(history, epochs):\n",
    "  # Plot training & validation accuracy values\n",
    "  epoch_range = range(1, epochs+1)\n",
    "  plt.plot(epoch_range, history.history['accuracy'])\n",
    "  plt.plot(epoch_range, history.history['val_accuracy'])\n",
    "  plt.title('Model accuracy')\n",
    "  plt.ylabel('Accuracy')\n",
    "  plt.xlabel('Epoch')\n",
    "  plt.legend(['Train', 'Val'], loc='upper left')\n",
    "  plt.show()\n",
    "\n",
    "  # Plot training & validation loss values\n",
    "  plt.plot(epoch_range, history.history['loss'])\n",
    "  plt.plot(epoch_range, history.history['val_loss'])\n",
    "  plt.title('Model loss')\n",
    "  plt.ylabel('Loss')\n",
    "  plt.xlabel('Epoch')\n",
    "  plt.legend(['Train', 'Val'], loc='upper left')\n",
    "  plt.show()"
   ]
  },
  {
   "cell_type": "code",
   "execution_count": null,
   "id": "8f338f79-cb9f-4029-9ba3-6ad227721cc0",
   "metadata": {},
   "outputs": [],
   "source": [
    "plot_learningCurve(history, 5)"
   ]
  },
  {
   "cell_type": "code",
   "execution_count": null,
   "id": "5a55c2e9-030f-4bc7-9d76-f4e4cf8c2712",
   "metadata": {},
   "outputs": [],
   "source": [
    "model.summary()"
   ]
  },
  {
   "cell_type": "code",
   "execution_count": null,
   "id": "c284cb43-1bb1-49a2-a8f0-514cb89d26ac",
   "metadata": {},
   "outputs": [],
   "source": [
    "model.save_weights('model.h5')"
   ]
  },
  {
   "cell_type": "code",
   "execution_count": null,
   "id": "7ab795c5-c4d6-4a1b-810b-c226392d477d",
   "metadata": {},
   "outputs": [],
   "source": [
    "testX = np.array([[\n",
    "    [0,0,0,0,0,0,0,0,0,0,0,0,0,0,0,0,0,0,0,0,0,0,0,0,0,0,0,0,0,0],\n",
    "    [0,0,0,0,0,0,0,0,0,0,0,0,13.952567,4.249724,2.527333,-5.409995,-10.950509,-12.736808,0,0,0,0,0,0,0,0,0,0,0,0],\n",
    "    [0,0,0,0,0,0,0,0,0,0,0,0,0,0,0,0,0,0,0,0,0,0,0,0,0,0,0,0,0,0],\n",
    "    [0,0,0,0,0,0,0,0,0,0,0,0,0,0,0,0,0,0,0,0,0,0,0,0,0,0,0,0,0,0],\n",
    "    [0,0,0,0,0,0,0,0,0,0,0,0,0,0,0,0,0,0,0,0,0,0,0,0,0,0,0,0,0,0],\n",
    "    [0,0,0,0,0,0,8.216389,5.280360,6.470113,-13.611813,-23.182785,-16.695789,0,0,0,0,0,0,0,0,0,0,0,0,0,0,0,0,0,0],\n",
    "    [0,0,0,0,0,0,7.767200,5.611929,6.253044,-12.808754,-17.648222,-14.810780,0,0,0,0,0,0,0,0,0,0,0,0,0,0,0,0,0,0],\n",
    "    [0,0,0,0,0,0,7.370362,5.079319,6.347465,-11.965900,-16.869978,-20.032492,0,0,0,0,0,0,0,0,0,0,0,0,0,0,0,0,0,0],\n",
    "    [0,0,0,0,0,0,7.715310,4.155621,6.317726,-16.428761,-17.050875,-15.725938,0,0,0,0,0,0,0,0,0,0,0,0,0,0,0,0,0,0],\n",
    "    [0,0,0,0,0,0,7.881013,4.186670,6.144070,-13.446540,-13.740369,-15.490369,0,0,0,0,0,0,0,0,0,0,0,0,0,0,0,0,0,0],\n",
    "    [0,0,0,0,0,0,8.524879,4.271578,6.615993,-13.516587,-5.040089,-11.051071,9.084549,4.001487,6.367239,-7.355814,-10.082934,-7.333158,0,0,0,0,0,0,0,0,0,0,0,0],\n",
    "    [0,0,0,0,0,0,8.800302,3.362159,6.504236,-8.876846,-6.230131,-22.180132,0,0,0,0,0,0,0,0,0,0,0,0,0,0,0,0,0,0],\n",
    "    [0,0,0,0,0,0,8.134988,2.746485,6.514914,-16.681761,-13.780928,-32.486542,0,0,0,0,0,0,10.254257,6.224337,8.455833,-6.530878,-13.936038,-18.016371,0,0,0,0,0,0],\n",
    "    [0,0,0,0,0,0,7.893073,2.658744,5.947619,-23.272852,-23.198483,-41.946198,0,0,0,0,0,0,8.419959,5.309003,6.562475,-15.141280,-15.959386,-19.693125,0,0,0,0,0,0],\n",
    "    [0,0,0,0,0,0,6.678409,3.502672,5.770662,-29.881226,-37.117558,-37.447361,0,0,0,0,0,0,0,0,0,0,0,0,0,0,0,0,0,0],\n",
    "    [0,0,0,0,0,0,6.197261,3.502281,6.016867,-29.120848,-32.971867,-26.784777,0,0,0,0,0,0,0,0,0,0,0,0,0,0,0,0,0,0],\n",
    "    [0,0,0,0,0,0,6.201666,3.656353,6.162067,-20.974396,-17.812176,-13.796858,0,0,0,0,0,0,6.393508,4.383246,7.006106,15.910370,21.221390,19.068649,0,0,0,0,0,0],\n",
    "    [0,0,0,0,0,0,0,0,0,0,0,0,6.047100,3.728672,6.208570,-10.385201,15.892621,32.621910,6.181096,4.576465,6.997590,15.424735,25.214361,30.243340,0,0,0,0,0,0],\n",
    "    [0,0,0,0,0,0,0,0,0,0,0,0,6.689670,3.718995,6.352200,21.943645,30.859713,28.230528,7.568999,3.734650,6.336351,24.176458,23.177486,19.308949,0,0,0,0,0,0],\n",
    "    [0,0,0,0,0,0,6.756936,2.974996,6.085878,15.058789,28.332273,25.371532,7.100714,2.803586,5.256223,21.762081,33.566154,35.344673,7.761410,1.600375,5.355376,15.817078,19.660923,15.001101,0,0,0,0,0,0],\n",
    "    [0,0,0,0,0,0,6.986620,2.287321,6.194528,19.794146,39.830635,33.717720,6.207091,1.920210,5.329789,27.869570,51.368126,50.604393,5.195462,-0.161790,3.307606,12.584986,24.421221,23.404194,0,0,0,0,0,0],\n",
    "    [0,0,0,0,0,0,7.274265,1.934399,5.838885,24.971752,35.326973,32.629410,7.511321,2.016713,5.106946,38.457718,57.748947,50.584206,7.773062,1.236347,3.898364,19.297207,42.847214,34.810684,0,0,0,0,0,0],\n",
    "    [0,0,0,0,0,0,8.152082,0.735103,5.745378,25.260988,30.784748,20.397715,7.598560,0.735593,4.897916,36.708290,40.289875,49.770779,5.907531,0.773901,5.522585,25.298033,24.282854,19.241486,0,0,0,0,0,0],\n",
    "    [0,0,0,0,0,0,0,0,0,0,0,0,6.490103,1.481722,4.067307,37.272137,40.245831,44.665112,7.840597,0.931173,3.339880,15.187518,18.708496,14.329185,0,0,0,0,0,0],\n",
    "    [0,0,0,0,0,0,0,0,0,0,0,0,5.897269,0.657285,3.317606,35.131943,35.755493,27.644312,5.806628,0.279364,2.684311,11.948812,23.762138,21.988840,0,0,0,0,0,0],\n",
    "    [0,0,0,0,0,0,0,0,0,0,0,0,5.678131,0.147839,3.063548,21.822975,20.383823,19.169857,5.539487,-0.493183,3.439726,17.970325,14.869340,18.709799,0,0,0,0,0,0],\n",
    "    [0,0,0,0,0,0,0,0,0,0,0,0,5.539316,0.021644,2.998916,16.125114,11.858723,12.524509,5.048274,-0.478946,3.008445,15.395230,11.963598,22.704348,0,0,0,0,0,0],\n",
    "    [0,0,0,0,0,0,0,0,0,0,0,0,4.877439,-0.337739,2.307023,10.759722,5.924069,6.684182,4.588142,-0.679850,2.659321,17.746691,11.029400,14.320434,0,0,0,0,0,0],\n",
    "    [0,0,0,0,0,0,6.270644,0.956739,4.998600,-7.852917,-11.921509,-13.588535,0,0,0,0,0,0,0,0,0,0,0,0,0,0,0,0,0,0],\n",
    "    [0,0,0,0,0,0,5.436295,1.256562,5.260251,-11.766024,-16.661034,-15.210032,0,0,0,0,0,0,0,0,0,0,0,0,0,0,0,0,0,0],\n",
    "    [0,0,0,0,0,0,5.389453,1.856024,5.257956,-12.978321,-24.376022,-23.530657,4.393661,1.621573,4.334895,-6.836424,-19.629246,-8.739183,0,0,0,0,0,0,0,0,0,0,0,0],\n",
    "    [0,0,0,0,0,0,4.871344,1.873962,5.166535,-19.388491,-22.114351,-18.190914,4.234851,1.824427,4.136209,-6.337778,-10.129951,-6.084620,0,0,0,0,0,0,0,0,0,0,0,0],\n",
    "    [0,0,0,0,0,0,0,0,0,0,0,0,0,0,0,0,0,0,0,0,0,0,0,0,0,0,0,0,0,0],\n",
    "    [0,0,0,0,0,0,0,0,0,0,0,0,0,0,0,0,0,0,0,0,0,0,0,0,0,0,0,0,0,0],\n",
    "    [0,0,0,0,0,0,4.840881,1.591652,4.868794,11.090357,26.831984,31.532314,0,0,0,0,0,0,0,0,0,0,0,0,0,0,0,0,0,0],\n",
    "    [0,0,0,0,0,0,5.342162,1.276335,4.787768,24.233213,40.522690,34.607246,4.182187,0.885812,3.085227,12.914112,37.122292,17.253429,4.153934,0.733384,3.131540,11.404458,28.944052,11.225662,0,0,0,0,0,0],\n",
    "    [0,0,0,0,0,0,5.616482,1.290794,4.550498,25.847130,45.030083,47.194202,4.493757,1.312263,3.723777,11.661476,35.028019,32.352718,4.647297,1.090271,3.238101,8.312797,23.558950,21.119343,0,0,0,0,0,0],\n",
    "    [0,0,0,0,0,0,5.956159,0.592108,4.683023,35.554607,44.968601,54.801357,0,0,0,0,0,0,5.337568,1.943664,4.613310,16.171715,23.293169,9.094886,0,0,0,0,0,0],\n",
    "    [0,0,0,0,0,0,7.604311,1.995201,5.021271,40.279049,16.905844,12.930675,0,0,0,0,0,0,10.701224,-4.566400,0.278547,7.134822,-50.204227,-138.932571,0,0,0,0,0,0],\n",
    "    [0,0,0,0,0,0,5.903653,-1.634187,6.870910,9.443080,-15.010967,-13.054314,0,0,0,0,0,0,0,0,0,0,0,0,0,0,0,0,0,0],\n",
    "    [0,0,0,0,0,0,9.055454,1.457847,5.344152,-9.673894,13.515572,16.765368,0,0,0,0,0,0,0,0,0,0,0,0,0,0,0,0,0,0],\n",
    "    [0,0,0,0,0,0,7.811357,2.246756,5.980661,12.548841,11.778852,10.738168,4.365787,1.870901,5.217771,38.208569,8.134138,-36.259247,8.860351,2.989388,3.141908,48.683605,31.648640,25.767378,0,0,0,0,0,0],\n",
    "    [0,0,0,0,0,0,6.808356,2.962502,4.951216,8.990260,20.927866,36.376049,8.975663,-0.041771,1.358307,-19.213202,-54.612484,-80.438911,0,0,0,0,0,0,0,0,0,0,0,0],\n",
    "    [0,0,0,0,0,0,0.888476,-0.155872,3.187116,26.567259,86.461220,72.609428,0,0,0,0,0,0,0,0,0,0,0,0,0,0,0,0,0,0],\n",
    "    [0,0,0,0,0,0,3.540016,0.440885,3.896799,45.334312,10.789911,-54.195641,0,0,0,0,0,0,0,0,0,0,0,0,0,0,0,0,0,0],\n",
    "    [0,0,0,0,0,0,10.512943,2.589950,0.272325,-25.930822,-51.096405,-114.381203,12.161925,4.218072,2.763889,5.436157,14.229702,33.977779,0,0,0,0,0,0,0,0,0,0,0,0],\n",
    "    [0,0,0,0,0,0,0,0,0,0,0,0,4.481536,2.017825,4.246423,24.208988,16.421852,-20.309095,8.378955,4.199608,5.586026,-11.059976,-8.673635,-8.930796,0,0,0,0,0,0],\n",
    "    [0,0,0,0,0,0,0,0,0,0,0,0,0,0,0,0,0,0,0,0,0,0,0,0,0,0,0,0,0,0],\n",
    "    [0,0,0,0,0,0,0,0,0,0,0,0,6.964401,3.101523,5.233665,7.655895,8.418730,8.588311,0,0,0,0,0,0,0,0,0,0,0,0],\n",
    "    [0,0,0,0,0,0,0,0,0,0,0,0,6.844166,3.032157,5.351068,7.271446,7.189135,6.127219,0,0,0,0,0,0,0,0,0,0,0,0],\n",
    "    [0,0,0,0,0,0,0,0,0,0,0,0,0,0,0,0,0,0,0,0,0,0,0,0,0,0,0,0,0,0],\n",
    "    [0,0,0,0,0,0,0,0,0,0,0,0,0,0,0,0,0,0,0,0,0,0,0,0,0,0,0,0,0,0],\n",
    "    [0,0,0,0,0,0,0,0,0,0,0,0,0,0,0,0,0,0,0,0,0,0,0,0,0,0,0,0,0,0],\n",
    "    [0,0,0,0,0,0,0,0,0,0,0,0,0,0,0,0,0,0,0,0,0,0,0,0,0,0,0,0,0,0],\n",
    "    [0,0,0,0,0,0,0,0,0,0,0,0,0,0,0,0,0,0,0,0,0,0,0,0,0,0,0,0,0,0],\n",
    "    [0,0,0,0,0,0,0,0,0,0,0,0,0,0,0,0,0,0,0,0,0,0,0,0,0,0,0,0,0,0],\n",
    "    [0,0,0,0,0,0,0,0,0,0,0,0,0,0,0,0,0,0,0,0,0,0,0,0,0,0,0,0,0,0],\n",
    "    [0,0,0,0,0,0,0,0,0,0,0,0,0,0,0,0,0,0,0,0,0,0,0,0,0,0,0,0,0,0],\n",
    "    [0,0,0,0,0,0,0,0,0,0,0,0,0,0,0,0,0,0,0,0,0,0,0,0,0,0,0,0,0,0],\n",
    "    [0,0,0,0,0,0,0,0,0,0,0,0,0,0,0,0,0,0,0,0,0,0,0,0,0,0,0,0,0,0]\n",
    "]]);"
   ]
  },
  {
   "cell_type": "code",
   "execution_count": null,
   "id": "1b5dd9bd-3a74-412b-937d-6f8fdea2c4aa",
   "metadata": {},
   "outputs": [],
   "source": [
    "# testX = tf.expand_dims(testX,0);\n",
    "# testX = np.reshape(testX, (60, 30, 1))\n",
    "# testX = tf.expand_dims(testX,0);"
   ]
  },
  {
   "cell_type": "code",
   "execution_count": null,
   "id": "e46d3fe1-4b9d-425b-b0a3-938c703c3a5c",
   "metadata": {},
   "outputs": [],
   "source": [
    "testX.shape"
   ]
  },
  {
   "cell_type": "code",
   "execution_count": null,
   "id": "4c9ea6ab-a372-4f96-a5c6-806a60f1442b",
   "metadata": {},
   "outputs": [],
   "source": [
    "Y = model.predict(testX)\n",
    "print(Y)"
   ]
  },
  {
   "cell_type": "code",
   "execution_count": null,
   "id": "dcccde16-08d9-4256-a01c-57a4842bae6b",
   "metadata": {},
   "outputs": [],
   "source": [
    "converter = tf.lite.TFLiteConverter.from_keras_model(model)\n",
    "tflite_model = converter.convert()\n",
    "open(\"converted_model.tflite\", \"wb\").write(tflite_model)"
   ]
  },
  {
   "cell_type": "code",
   "execution_count": null,
   "id": "ec1d2c93-750e-47fe-808c-9b96ef8d5c49",
   "metadata": {},
   "outputs": [],
   "source": [
    "X_train[0]"
   ]
  },
  {
   "cell_type": "code",
   "execution_count": null,
   "id": "6d340a13-7cb9-4af0-a411-c5878738ad2b",
   "metadata": {},
   "outputs": [],
   "source": [
    "X_train[0].shape"
   ]
  },
  {
   "cell_type": "code",
   "execution_count": null,
   "id": "46c42b32-358d-4889-b89d-522875fe686c",
   "metadata": {},
   "outputs": [],
   "source": [
    "testX.shape"
   ]
  },
  {
   "cell_type": "code",
   "execution_count": null,
   "id": "65ea3bef-f0b2-41c4-85cc-55a6ba15e050",
   "metadata": {},
   "outputs": [],
   "source": [
    "testX[0]"
   ]
  },
  {
   "cell_type": "code",
   "execution_count": null,
   "id": "be1afc17-07c4-465c-b994-9c11056ef009",
   "metadata": {},
   "outputs": [],
   "source": []
  }
 ],
 "metadata": {
  "kernelspec": {
   "display_name": "Python 3 (ipykernel)",
   "language": "python",
   "name": "python3"
  },
  "language_info": {
   "codemirror_mode": {
    "name": "ipython",
    "version": 3
   },
   "file_extension": ".py",
   "mimetype": "text/x-python",
   "name": "python",
   "nbconvert_exporter": "python",
   "pygments_lexer": "ipython3",
   "version": "3.9.13"
  }
 },
 "nbformat": 4,
 "nbformat_minor": 5
}
