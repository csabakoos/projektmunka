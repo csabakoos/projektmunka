{
 "cells": [
  {
   "cell_type": "code",
   "execution_count": 1,
   "id": "39ffc7fc-6e3e-49b6-a429-d8f05cb6ab59",
   "metadata": {},
   "outputs": [
    {
     "name": "stdout",
     "output_type": "stream",
     "text": [
      "\n",
      "\u001b[34mReady.\n",
      "\u001b[0m"
     ]
    }
   ],
   "source": [
    "%serialconnect to port=/dev/tty.usbserial-0001 --baud=115200"
   ]
  },
  {
   "cell_type": "code",
   "execution_count": 2,
   "id": "005f9f8d-a0be-4fdb-91e5-e30d4d6599f7",
   "metadata": {},
   "outputs": [
    {
     "name": "stdout",
     "output_type": "stream",
     "text": [
      "30:c6:f7:2f:27:30\n"
     ]
    }
   ],
   "source": [
    "import network\n",
    "import ubinascii\n",
    "mac = ubinascii.hexlify(network.WLAN().config('mac'),':').decode()\n",
    "print(mac)"
   ]
  },
  {
   "cell_type": "code",
   "execution_count": 3,
   "id": "337171ef-cc02-48ab-9bcc-4be0a9cc8d79",
   "metadata": {},
   "outputs": [
    {
     "name": "stderr",
     "output_type": "stream",
     "text": [
      "Traceback (most recent call last):\n",
      "  File \"<stdin>\", line 1, in <module>\n",
      "ImportError: no module named 'commands'\n"
     ]
    }
   ],
   "source": [
    "import commands\n",
    "\n",
    "cmd = \"hciconfig\"\n",
    "device_id = \"hci0\" \n",
    "status, output = commands.getstatusoutput(cmd)\n",
    "bt_mac = output.split(\"{}:\".format(device_id))[1].split(\"BD Address: \")[1].split(\" \")[0].strip()\n",
    "\n",
    "print(bt_mac)"
   ]
  },
  {
   "cell_type": "code",
   "execution_count": null,
   "id": "047ba4d7-74f2-4b87-b221-24f9bfec1fb6",
   "metadata": {},
   "outputs": [
    {
     "name": "stdout",
     "output_type": "stream",
     "text": [
      "Device disconnected!\n",
      "bytearray(b'\\x02\\x01\\x02\\x06\\tESP32')\n",
      "\n",
      "\n",
      ".Device connected!\n",
      "lld_pdu_get_tx_flush_nb HCI packet count mismatch (0, 1)\n",
      "bytearray(b'\\x02\\x01\\x02\\x06\\tESP32')\n",
      "\n",
      "\n",
      "Device disconnected!\n",
      ".Device connected!\n",
      "........................................................................................................................................................................................................................................................................................."
     ]
    }
   ],
   "source": [
    "from machine import Pin\n",
    "from machine import Timer\n",
    "from time import sleep_ms\n",
    "from micropython import const\n",
    "import ubluetooth\n",
    "\n",
    "_IRQ_CENTRAL_CONNECT                 = const(1 << 0)\n",
    "_IRQ_CENTRAL_DISCONNECT              = const(1 << 1)\n",
    "_IRQ_GATTS_WRITE                     = const(1 << 2)\n",
    "_IRQ_GATTS_READ_REQUEST              = const(1 << 3)\n",
    "_IRQ_SCAN_RESULT                     = const(1 << 4)\n",
    "_IRQ_SCAN_COMPLETE                   = const(1 << 5)\n",
    "_IRQ_PERIPHERAL_CONNECT              = const(1 << 6)\n",
    "_IRQ_PERIPHERAL_DISCONNECT           = const(1 << 7)\n",
    "_IRQ_GATTC_SERVICE_RESULT            = const(1 << 8)\n",
    "_IRQ_GATTC_CHARACTERISTIC_RESULT     = const(1 << 9)\n",
    "_IRQ_GATTC_DESCRIPTOR_RESULT         = const(1 << 10)\n",
    "_IRQ_GATTC_READ_RESULT               = const(1 << 11)\n",
    "_IRQ_GATTC_WRITE_STATUS              = const(1 << 12)\n",
    "_IRQ_GATTC_NOTIFY                    = const(1 << 13)\n",
    "_IRQ_GATTC_INDICATE                  = const(1 << 14)\n",
    "\n",
    "ble_msg = \"\"\n",
    "is_ble_connected = False\n",
    "\n",
    "class esp32ble():\n",
    "    def __init__(self, name):\n",
    "        self.led = Pin(2, Pin.OUT)\n",
    "        self.timer1 = Timer(0)\n",
    "        self.name = name\n",
    "        self.ble = ubluetooth.BLE()\n",
    "        self.ble.active(True)\n",
    "        \n",
    "        self.disconnected()\n",
    "        self.ble.irq(self.ble_irq)\n",
    "        self.register()\n",
    "        self.advertiser()\n",
    "\n",
    "    def connected(self):\n",
    "        global is_ble_connected\n",
    "        is_ble_connected = True\n",
    "        self.led.value(1)\n",
    "        self.timer1.deinit()\n",
    "        print(\"Device connected!\")\n",
    "\n",
    "    def disconnected(self):\n",
    "        global is_ble_connected\n",
    "        is_ble_connected = False\n",
    "        self.timer1.init(period=100, mode=Timer.PERIODIC, callback=lambda t: self.led.value(not self.led.value()))\n",
    "        print(\"Device disconnected!\")\n",
    "\n",
    "    def ble_irq(self, event, data):\n",
    "        if event == _IRQ_CENTRAL_CONNECT:\n",
    "            # The central device is already connected to this peripheral device\n",
    "            conn_handle, addr_type, addr = data\n",
    "            self.connected()\n",
    "        elif event == _IRQ_CENTRAL_DISCONNECT:\n",
    "            # The central device has been disconnected from this peripheral device\n",
    "            conn_handle, addr_type, addr = data\n",
    "            self.advertiser()\n",
    "            self.disconnected()\n",
    "        elif event == _IRQ_GATTS_WRITE:\n",
    "            # The central device has written this feature or descriptor\n",
    "            conn_handle, attr_handle = data\n",
    "        elif event == _IRQ_GATTS_READ_REQUEST:\n",
    "            # The central device has issued a read request. Note: This is a hardware IRQ\n",
    "            # Return NONE to reject the read operation\n",
    "            # Note: This event does not support ESP32.\n",
    "            conn_handle, attr_handle = data\n",
    "        elif event == _IRQ_SCAN_RESULT:\n",
    "            # The result of a scan\n",
    "            addr_type, addr, connectable, rssi, adv_data = data\n",
    "        elif event == _IRQ_SCAN_COMPLETE:\n",
    "            # Scan duration has been completed or manually stopped\n",
    "            pass\n",
    "        elif event == _IRQ_PERIPHERAL_CONNECT:\n",
    "            #  gap_connect() connected\n",
    "            conn_handle, addr_type, addr = data\n",
    "        elif event == _IRQ_PERIPHERAL_DISCONNECT:\n",
    "            # Connected peripherals are disconnected\n",
    "            conn_handle, addr_type, addr = data\n",
    "        elif event == _IRQ_GATTC_SERVICE_RESULT:\n",
    "            # Call gattc_discover_services() for each service found\n",
    "            conn_handle, start_handle, end_handle, uuid = data\n",
    "        elif event == _IRQ_GATTC_CHARACTERISTIC_RESULT:\n",
    "            # Call gattc_discover_services() every feature found\n",
    "            conn_handle, def_handle, value_handle, properties, uuid = data\n",
    "        elif event == _IRQ_GATTC_DESCRIPTOR_RESULT:\n",
    "            # Call gattc_discover_descriptors() every descriptor found\n",
    "            conn_handle, dsc_handle, uuid = data\n",
    "        elif event == _IRQ_GATTC_READ_RESULT:\n",
    "            # gattc_read() completed\n",
    "            conn_handle, value_handle, char_data = data\n",
    "        elif event == _IRQ_GATTC_WRITE_STATUS:\n",
    "            # gattc_write() completed\n",
    "            conn_handle, value_handle, status = data\n",
    "        elif event == _IRQ_GATTC_NOTIFY:\n",
    "            # The peripheral device has issued a notification request\n",
    "            conn_handle, value_handle, notify_data = data\n",
    "        elif event == _IRQ_GATTC_INDICATE:\n",
    "            # Peripheral equipment issues instructions\n",
    "            conn_handle, value_handle, notify_data = data\n",
    "\n",
    "    def register(self):        \n",
    "        NUS_UUID = '6E400001-B5A3-F393-E0A9-E50E24DCCA9E'\n",
    "        RX_UUID = '6E400002-B5A3-F393-E0A9-E50E24DCCA9E'\n",
    "        TX_UUID = '6E400003-B5A3-F393-E0A9-E50E24DCCA9E'\n",
    "            \n",
    "        BLE_NUS = ubluetooth.UUID(NUS_UUID)\n",
    "        BLE_RX = (ubluetooth.UUID(RX_UUID), ubluetooth.FLAG_WRITE)\n",
    "        BLE_TX = (ubluetooth.UUID(TX_UUID), ubluetooth.FLAG_NOTIFY)\n",
    "            \n",
    "        BLE_UART = (BLE_NUS, (BLE_TX, BLE_RX,))\n",
    "        SERVICES = (BLE_UART, )\n",
    "        ((self.tx, self.rx,), ) = self.ble.gatts_register_services(SERVICES)\n",
    "\n",
    "    def send(self, data):\n",
    "        self.ble.gatts_notify(0, self.tx, data + '\\n')\n",
    "\n",
    "    def advertiser(self):\n",
    "        name = bytes(self.name, 'UTF-8')\n",
    "        adv_data = bytearray('\\x02\\x01\\x02') + bytearray((len(name) + 1, 0x09)) + name\n",
    "        self.ble.gap_advertise(100, adv_data)\n",
    "        print(adv_data)\n",
    "        print(\"\\r\\n\")\n",
    "\n",
    "\n",
    "ble = esp32ble(\"ESP32\")\n",
    "\n",
    "while True:\n",
    "    if is_ble_connected:\n",
    "        ble.send('Hello World!')\n",
    "    sleep_ms(1000)"
   ]
  },
  {
   "cell_type": "code",
   "execution_count": null,
   "id": "b97479b2-bc5c-41bb-995d-06c25b9025b8",
   "metadata": {},
   "outputs": [],
   "source": []
  }
 ],
 "metadata": {
  "kernelspec": {
   "display_name": "MicroPython - USB",
   "language": "micropython",
   "name": "micropython"
  },
  "language_info": {
   "codemirror_mode": "python",
   "file_extension": ".py",
   "mimetype": "text/python",
   "name": "micropython"
  }
 },
 "nbformat": 4,
 "nbformat_minor": 5
}
