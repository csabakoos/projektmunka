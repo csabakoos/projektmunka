{
 "cells": [
  {
   "cell_type": "code",
   "execution_count": 11,
   "id": "8bb2377a-4629-4938-80c6-860a6dde5b4b",
   "metadata": {},
   "outputs": [
    {
     "name": "stdout",
     "output_type": "stream",
     "text": [
      "0 0 0 0\n",
      "1 0.5259321593143147 -0.8003164525436948 0.20446323455178717\n",
      "2 0.8332590747953676 0.6013126806377724 0.05324175984931112\n",
      "3 0.3281829948508974 0.9653992927913191 0.8967891063770088\n",
      "4 0.028653636536860816 0.6855013007692281 0.836911017575722\n",
      "5 0.33969956242311516 -0.272642312278075 -0.6893537364771165\n",
      "6 0.3495512343867859 0.4609753431957715 0.5965465693694543\n",
      "7 -0.41788919465552987 -0.7934362798001549 -0.8021383884524347\n",
      "8 0.004262400677072398 -0.9577556548396533 0.8696628146279557\n",
      "9 0.5902975388376961 -0.5468204011089188 0.18922720933851123\n",
      "10 -0.7855223380584881 -0.5625951401396705 0.48772536581130055\n",
      "11 0.8893607692438332 0.3392421982235534 -0.5823991377038191\n",
      "12 -0.05164886094097776 0.8355735624642002 -0.8139849518976738\n",
      "13 0.6073697923368131 0.42181012462677336 0.469149464056384\n",
      "14 -0.12017296717837267 -0.7407226614915652 0.6886972595877277\n",
      "15 -0.008724781758671085 0.36623008622841624 0.41339778526255944\n",
      "16 -0.9337780486542149 0.20166740917087367 -0.03778458239436233\n",
      "17 0.3049801205551197 -0.7436513715782382 -0.21381468985208163\n",
      "18 0.786958312520978 -0.2675722930045701 -0.20245611226433025\n",
      "19 -0.9360353640763319 0.12755668417750932 0.1555935194882121\n"
     ]
    },
    {
     "ename": "KeyboardInterrupt",
     "evalue": "",
     "output_type": "error",
     "traceback": [
      "\u001b[0;31m---------------------------------------------------------------------------\u001b[0m",
      "\u001b[0;31mKeyboardInterrupt\u001b[0m                         Traceback (most recent call last)",
      "\u001b[0;32m/var/folders/fx/5gyl_pgs2094_xlx9szcscp00000gn/T/ipykernel_8756/2160616049.py\u001b[0m in \u001b[0;36m<module>\u001b[0;34m\u001b[0m\n\u001b[1;32m     35\u001b[0m         \u001b[0mz\u001b[0m \u001b[0;34m=\u001b[0m \u001b[0mrandom\u001b[0m\u001b[0;34m.\u001b[0m\u001b[0muniform\u001b[0m\u001b[0;34m(\u001b[0m\u001b[0;34m-\u001b[0m\u001b[0;36m1\u001b[0m\u001b[0;34m,\u001b[0m \u001b[0;36m1\u001b[0m\u001b[0;34m)\u001b[0m\u001b[0;34m\u001b[0m\u001b[0;34m\u001b[0m\u001b[0m\n\u001b[1;32m     36\u001b[0m \u001b[0;34m\u001b[0m\u001b[0m\n\u001b[0;32m---> 37\u001b[0;31m     \u001b[0mtime\u001b[0m\u001b[0;34m.\u001b[0m\u001b[0msleep\u001b[0m\u001b[0;34m(\u001b[0m\u001b[0;36m1\u001b[0m\u001b[0;34m)\u001b[0m\u001b[0;34m\u001b[0m\u001b[0;34m\u001b[0m\u001b[0m\n\u001b[0m",
      "\u001b[0;31mKeyboardInterrupt\u001b[0m: "
     ]
    }
   ],
   "source": [
    "import csv\n",
    "import random\n",
    "import time\n",
    "\n",
    "i = 0\n",
    "x = 0\n",
    "y = 0\n",
    "z = 0\n",
    "\n",
    "fieldnames = [\"i\", \"x\", \"y\", \"z\"]\n",
    "\n",
    "\n",
    "with open('data.csv', 'w') as csv_file:\n",
    "    csv_writer = csv.DictWriter(csv_file, fieldnames=fieldnames)\n",
    "    csv_writer.writeheader()\n",
    "\n",
    "while True:\n",
    "\n",
    "    with open('data.csv', 'a') as csv_file:\n",
    "        csv_writer = csv.DictWriter(csv_file, fieldnames=fieldnames)\n",
    "\n",
    "        info = {\n",
    "            \"i\" : i,\n",
    "            \"x\" : x,\n",
    "            \"y\" : y,\n",
    "            \"z\" : z\n",
    "        }\n",
    "\n",
    "        csv_writer.writerow(info)\n",
    "        print(i, x, y, z)\n",
    "\n",
    "        i += 1\n",
    "        x = random.uniform(-1, 1)\n",
    "        y = random.uniform(-1, 1)\n",
    "        z = random.uniform(-1, 1)\n",
    "\n",
    "    time.sleep(1)"
   ]
  },
  {
   "cell_type": "code",
   "execution_count": null,
   "id": "d5a049c2-074f-4f85-a8c3-ea86d50a1efd",
   "metadata": {},
   "outputs": [],
   "source": []
  }
 ],
 "metadata": {
  "kernelspec": {
   "display_name": "Python 3 (ipykernel)",
   "language": "python",
   "name": "python3"
  },
  "language_info": {
   "codemirror_mode": {
    "name": "ipython",
    "version": 3
   },
   "file_extension": ".py",
   "mimetype": "text/x-python",
   "name": "python",
   "nbconvert_exporter": "python",
   "pygments_lexer": "ipython3",
   "version": "3.9.7"
  }
 },
 "nbformat": 4,
 "nbformat_minor": 5
}
