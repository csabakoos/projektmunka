{
 "cells": [
  {
   "cell_type": "code",
   "execution_count": null,
   "id": "1f644858-abc5-4e9a-9db8-3fc35ca2bbe9",
   "metadata": {},
   "outputs": [
    {
     "name": "stdout",
     "output_type": "stream",
     "text": [
      "Found serial ports: /dev/cu.usbserial-0001, /dev/cu.Bluetooth-Incoming-Port, /dev/cu.wlan-debug \n",
      "\u001b[34mConnecting to --port=/dev/cu.usbserial-0001 --baud=115200 \u001b[0m\n"
     ]
    }
   ],
   "source": [
    "%serialconnect to port=/dev/tty.usbserial-0001 --baud=115200"
   ]
  },
  {
   "cell_type": "code",
   "execution_count": null,
   "id": "7c912fcd-9896-4703-a87e-af675d885831",
   "metadata": {},
   "outputs": [],
   "source": [
    "from machine import Pin, SoftI2C\n",
    "from time import sleep_ms\n",
    "\n",
    "import os\n",
    "\n",
    "mpu_addr = 0x68\n",
    "mpu_pwr_mgmt = 0x6B\n",
    "\n",
    "mpu_accel_x_h = 0x3B\n",
    "mpu_accel_x_l = 0x3C\n",
    "mpu_accel_y_h = 0x3D\n",
    "mpu_accel_y_l = 0x3E\n",
    "mpu_accel_z_h = 0x3F\n",
    "mpu_accel_z_l = 0x40\n",
    "\n",
    "mpu_gyro_x_h = 0x43\n",
    "mpu_gyro_x_l = 0x44\n",
    "mpu_gyro_y_h = 0x45\n",
    "mpu_gyro_y_l = 0x46\n",
    "mpu_gyro_z_h = 0x47\n",
    "mpu_gyro_z_l = 0x48\n",
    "\n",
    "mpu_lsbc = 340.0\n",
    "mpu_lsbg = 16348.0\n",
    "mpu_lsbds = 131.0\n",
    "\n",
    "def mpu_init(i2c):\n",
    "    i2c.writeto_mem(mpu_addr, mpu_pwr_mgmt, bytes([0]))\n",
    "\n",
    "def combine_register_values(h, l):\n",
    "    if not h[0] & 0x80:\n",
    "        return h[0] << 8 | l[0]\n",
    "    return -((h[0] ^ 255) << 8) |  (l[0] ^ 255) + 1\n",
    "\n",
    "def mpu_get_accel(i2c):\n",
    "    accel_x_h = i2c.readfrom_mem(mpu_addr, mpu_accel_x_h, 1)\n",
    "    accel_x_l = i2c.readfrom_mem(mpu_addr, mpu_accel_x_l, 1)\n",
    "    accel_y_h = i2c.readfrom_mem(mpu_addr, mpu_accel_y_h, 1)\n",
    "    accel_y_l = i2c.readfrom_mem(mpu_addr, mpu_accel_y_l, 1)\n",
    "    accel_z_h = i2c.readfrom_mem(mpu_addr, mpu_accel_z_h, 1)\n",
    "    accel_z_l = i2c.readfrom_mem(mpu_addr, mpu_accel_z_l, 1)\n",
    "\n",
    "    return [combine_register_values(accel_x_h, accel_x_l) / mpu_lsbg,\n",
    "            combine_register_values(accel_y_h, accel_y_l) / mpu_lsbg,\n",
    "            combine_register_values(accel_z_h, accel_z_l) / mpu_lsbg]\n",
    "\n",
    "def mpu_get_gyro(i2c):\n",
    "    gyro_x_h = i2c.readfrom_mem(mpu_addr, mpu_gyro_x_h, 1)\n",
    "    gyro_x_l = i2c.readfrom_mem(mpu_addr, mpu_gyro_x_l, 1)\n",
    "    gyro_y_h = i2c.readfrom_mem(mpu_addr, mpu_gyro_y_h, 1)\n",
    "    gyro_y_l = i2c.readfrom_mem(mpu_addr, mpu_gyro_y_l, 1)\n",
    "    gyro_z_h = i2c.readfrom_mem(mpu_addr, mpu_gyro_z_h, 1)\n",
    "    gyro_z_l = i2c.readfrom_mem(mpu_addr, mpu_gyro_z_l, 1)\n",
    "\n",
    "    return [combine_register_values(gyro_x_h, gyro_x_l) / mpu_lsbg,\n",
    "            combine_register_values(gyro_y_h, gyro_y_l) / mpu_lsbg,\n",
    "            combine_register_values(gyro_z_h, gyro_z_l) / mpu_lsbg]\n",
    "\n",
    "if __name__ == \"__main__\":\n",
    "    i2c = SoftI2C(scl=Pin(23), sda=Pin(22))\n",
    "    mpu_init(i2c)\n",
    "    \n",
    "    while True:\n",
    "        print(\"Accelerometer:\\t\", mpu_get_accel(i2c), \"g\")\n",
    "        print(\"Gyroscope:\\t\", mpu_get_gyro(i2c), \"°/s\")\n",
    "        sleep_ms(1)\n"
   ]
  },
  {
   "cell_type": "code",
   "execution_count": null,
   "id": "3dab1aae-a9ce-40e2-807a-e0982b5e60a0",
   "metadata": {},
   "outputs": [],
   "source": []
  },
  {
   "cell_type": "code",
   "execution_count": null,
   "id": "4a163528-5c31-4cab-8317-578281e59b65",
   "metadata": {},
   "outputs": [],
   "source": []
  }
 ],
 "metadata": {
  "kernelspec": {
   "display_name": "MicroPython - USB",
   "language": "micropython",
   "name": "micropython"
  },
  "language_info": {
   "codemirror_mode": "python",
   "file_extension": ".py",
   "mimetype": "text/python",
   "name": "micropython"
  }
 },
 "nbformat": 4,
 "nbformat_minor": 5
}
