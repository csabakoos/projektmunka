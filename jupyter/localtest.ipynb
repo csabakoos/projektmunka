{
 "cells": [
  {
   "cell_type": "code",
   "execution_count": null,
   "id": "194428ae-a44b-4318-a0c0-c6ab8904b3d3",
   "metadata": {},
   "outputs": [],
   "source": [
    "%serialconnect to port=/dev/tty.usbserial-0001 --baud=115200"
   ]
  },
  {
   "cell_type": "code",
   "execution_count": 26,
   "id": "7c912fcd-9896-4703-a87e-af675d885831",
   "metadata": {},
   "outputs": [
    {
     "name": "stdout",
     "output_type": "stream",
     "text": [
      "Accelerometer:\t [0.1707854, 0.2495718, 1.154147] g\n",
      "Gyroscope:\t [7.4, -2.155882, 4.291176] °/s\n",
      "Accelerometer:\t [-0.7614388, -0.401517, -0.8514803] g\n",
      "Gyroscope:\t [23.86765, -89.48529, 41.89706] °/s\n",
      "Accelerometer:\t [0.3968681, 0.3868363, -1.054563] g\n",
      "Gyroscope:\t [10.04706, 40.17353, 36.69412] °/s\n",
      "Accelerometer:\t [-0.2840714, 0.4367507, -1.47541] g\n",
      "Gyroscope:\t [-11.38824, 90.00295, 69.30882] °/s\n",
      "Accelerometer:\t [-1.105946, 0.6486421, -0.9256178] g\n",
      "Gyroscope:\t [-3.082353, 43.22647, 25.04706] °/s\n",
      "Accelerometer:\t [-1.228774, 0.06802055, 0.1641791] g\n",
      "Gyroscope:\t [96.37353, -49.43824, -9.514706] °/s\n",
      "Accelerometer:\t [-0.768779, -0.3621238, 0.8649376] g\n",
      "Gyroscope:\t [96.37353, -86.61765, -9.844118] °/s\n",
      "Accelerometer:\t [-1.309518, -0.2123807, 2.004343] g\n",
      "Gyroscope:\t [-95.62353, -95.62353, 60.65883] °/s\n",
      "Accelerometer:\t [-1.988745, 0.8896502, 1.869342] g\n",
      "Gyroscope:\t [-95.62353, -95.62353, 6.073529] °/s\n",
      "\u001b[34m\n",
      "\n",
      "*** Sending Ctrl-C\n",
      "\n",
      "\u001b[0m"
     ]
    },
    {
     "name": "stderr",
     "output_type": "stream",
     "text": [
      "Traceback (most recent call last):\n",
      "  File \"<stdin>\", line 71, in <module>\n",
      "KeyboardInterrupt: \n"
     ]
    }
   ],
   "source": [
    "from machine import Pin, SoftI2C\n",
    "from time import sleep_ms\n",
    "\n",
    "import os\n",
    "\n",
    "mpu_addr = 0x68\n",
    "mpu_pwr_mgmt = 0x6B\n",
    "\n",
    "mpu_accel_x_h = 0x3B\n",
    "mpu_accel_x_l = 0x3C\n",
    "mpu_accel_y_h = 0x3D\n",
    "mpu_accel_y_l = 0x3E\n",
    "mpu_accel_z_h = 0x3F\n",
    "mpu_accel_z_l = 0x40\n",
    "\n",
    "mpu_gyro_x_h = 0x43\n",
    "mpu_gyro_x_l = 0x44\n",
    "mpu_gyro_y_h = 0x45\n",
    "mpu_gyro_y_l = 0x46\n",
    "mpu_gyro_z_h = 0x47\n",
    "mpu_gyro_z_l = 0x48\n",
    "\n",
    "mpu_lsbc = 340.0\n",
    "mpu_lsbg = 16348.0\n",
    "\n",
    "g = 9.8066\n",
    "\n",
    "def mpu_init(i2c):\n",
    "    i2c.writeto_mem(mpu_addr, mpu_pwr_mgmt, bytes([0]))\n",
    "\n",
    "def combine_register_values(h, l):\n",
    "    if not h[0] & 0x80:\n",
    "        return h[0] << 8 | l[0]\n",
    "    return -((h[0] ^ 255) << 8) |  (l[0] ^ 255) + 1\n",
    "\n",
    "def mpu_get_accel(i2c):\n",
    "    accel_x_h = i2c.readfrom_mem(mpu_addr, mpu_accel_x_h, 1)\n",
    "    accel_x_l = i2c.readfrom_mem(mpu_addr, mpu_accel_x_l, 1)\n",
    "    accel_y_h = i2c.readfrom_mem(mpu_addr, mpu_accel_y_h, 1)\n",
    "    accel_y_l = i2c.readfrom_mem(mpu_addr, mpu_accel_y_l, 1)\n",
    "    accel_z_h = i2c.readfrom_mem(mpu_addr, mpu_accel_z_h, 1)\n",
    "    accel_z_l = i2c.readfrom_mem(mpu_addr, mpu_accel_z_l, 1)\n",
    "\n",
    "    return [accel_correction(combine_register_values(accel_x_h, accel_x_l)),\n",
    "            accel_correction(combine_register_values(accel_y_h, accel_y_l)),\n",
    "            accel_correction(combine_register_values(accel_z_h, accel_z_l))]\n",
    "\n",
    "def accel_correction(accel):\n",
    "    return accel / mpu_lsbg\n",
    "\n",
    "def mpu_get_gyro(i2c):\n",
    "    gyro_x_h = i2c.readfrom_mem(mpu_addr, mpu_gyro_x_h, 1)\n",
    "    gyro_x_l = i2c.readfrom_mem(mpu_addr, mpu_gyro_x_l, 1)\n",
    "    gyro_y_h = i2c.readfrom_mem(mpu_addr, mpu_gyro_y_h, 1)\n",
    "    gyro_y_l = i2c.readfrom_mem(mpu_addr, mpu_gyro_y_l, 1)\n",
    "    gyro_z_h = i2c.readfrom_mem(mpu_addr, mpu_gyro_z_h, 1)\n",
    "    gyro_z_l = i2c.readfrom_mem(mpu_addr, mpu_gyro_z_l, 1)\n",
    "\n",
    "    return [combine_register_values(gyro_x_h, gyro_x_l) / mpu_lsbc,\n",
    "            combine_register_values(gyro_y_h, gyro_y_l) / mpu_lsbc,\n",
    "            combine_register_values(gyro_z_h, gyro_z_l) / mpu_lsbc]\n",
    "\n",
    "if __name__ == \"__main__\":\n",
    "    i2c = SoftI2C(scl=Pin(23), sda=Pin(22))\n",
    "    mpu_init(i2c)\n",
    "    \n",
    "    while True:\n",
    "        print(\"Accelerometer:\\t\", mpu_get_accel(i2c), \"g\")\n",
    "        print(\"Gyroscope:\\t\", mpu_get_gyro(i2c), \"°/s\")\n",
    "        sleep_ms(1000)\n"
   ]
  },
  {
   "cell_type": "code",
   "execution_count": null,
   "id": "3dab1aae-a9ce-40e2-807a-e0982b5e60a0",
   "metadata": {},
   "outputs": [],
   "source": []
  },
  {
   "cell_type": "code",
   "execution_count": null,
   "id": "4a163528-5c31-4cab-8317-578281e59b65",
   "metadata": {},
   "outputs": [],
   "source": []
  }
 ],
 "metadata": {
  "kernelspec": {
   "display_name": "MicroPython - USB",
   "language": "micropython",
   "name": "micropython"
  },
  "language_info": {
   "codemirror_mode": "python",
   "file_extension": ".py",
   "mimetype": "text/python",
   "name": "micropython"
  }
 },
 "nbformat": 4,
 "nbformat_minor": 5
}
