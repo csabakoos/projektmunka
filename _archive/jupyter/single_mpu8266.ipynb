{
 "cells": [
  {
   "cell_type": "code",
   "execution_count": 1,
   "id": "d8161837-8e4e-4d72-88d9-12f35dac9105",
   "metadata": {},
   "outputs": [
    {
     "name": "stdout",
     "output_type": "stream",
     "text": [
      "\u001b[34mConnecting to --port=COM3 --baud=115200 \u001b[0m\n",
      "\u001b[34mReady.\n",
      "\u001b[0m"
     ]
    }
   ],
   "source": [
    "%serialconnect to --port=COM3 --baud=115200\n",
    "import time"
   ]
  },
  {
   "cell_type": "code",
   "execution_count": 2,
   "id": "9608c952-1220-4251-8ccd-bac60ad8f95e",
   "metadata": {
    "scrolled": true,
    "tags": []
   },
   "outputs": [],
   "source": [
    "import machine\n",
    "\n",
    "\n",
    "class accel():\n",
    "    def __init__(self, i2c, addr=0x68):\n",
    "        self.iic = i2c\n",
    "        self.addr = addr\n",
    "        self.iic.start()\n",
    "        self.iic.writeto(self.addr, bytearray([107, 0]))\n",
    "        self.iic.stop()\n",
    "\n",
    "    def get_raw_values(self):\n",
    "        self.iic.start()\n",
    "        a = self.iic.readfrom_mem(self.addr, 0x3B, 14)\n",
    "        self.iic.stop()\n",
    "        return a\n",
    "\n",
    "    def get_ints(self):\n",
    "        b = self.get_raw_values()\n",
    "        c = []\n",
    "        for i in b:\n",
    "            c.append(i)\n",
    "        return c\n",
    "\n",
    "    def bytes_toint(self, firstbyte, secondbyte):\n",
    "        if not firstbyte & 0x80:\n",
    "            return firstbyte << 8 | secondbyte\n",
    "        return - (((firstbyte ^ 255) << 8) | (secondbyte ^ 255) + 1)\n",
    "\n",
    "    def get_values(self):\n",
    "        raw_ints = self.get_raw_values()\n",
    "        vals = {}\n",
    "        #vals[\"AcX\"] = self.bytes_toint(raw_ints[0], raw_ints[1])\n",
    "        #vals[\"AcY\"] = self.bytes_toint(raw_ints[2], raw_ints[3])\n",
    "        #vals[\"AcZ\"] = self.bytes_toint(raw_ints[4], raw_ints[5])\n",
    "        #vals[\"Tmp\"] = self.bytes_toint(raw_ints[6], raw_ints[7]) / 340.00 + 36.53\n",
    "        vals[\"GyX\"] = self.bytes_toint(raw_ints[8], raw_ints[9])\n",
    "        vals[\"GyY\"] = self.bytes_toint(raw_ints[10], raw_ints[11])\n",
    "        vals[\"GyZ\"] = self.bytes_toint(raw_ints[12], raw_ints[13])\n",
    "        return vals  # returned in range of Int16\n",
    "        # -32768 to 32767\n",
    "\n",
    "    def val_test(self):\n",
    "        from time import sleep\n",
    "        while 1:\n",
    "            print(self.get_values())\n",
    "            sleep(0.05)"
   ]
  },
  {
   "cell_type": "code",
   "execution_count": 3,
   "id": "2319dab7-de36-4ca8-8948-f1454d936d56",
   "metadata": {
    "scrolled": true,
    "tags": []
   },
   "outputs": [
    {
     "name": "stdout",
     "output_type": "stream",
     "text": [
      "mpu1:  {'GyZ': -15, 'GyY': -1082, 'GyX': 226}\n",
      "mpu2:  {'GyZ': -1, 'GyY': -1, 'GyX': -1}\n",
      "mpu1:  {'GyZ': -7, 'GyY': -1071, 'GyX': 189}\n"
     ]
    },
    {
     "name": "stderr",
     "output_type": "stream",
     "text": [
      "Traceback (most recent call last):\n",
      "  File \"<stdin>\", line 15, in <module>\n",
      "  File \"<stdin>\", line 31, in get_values\n",
      "  File \"<stdin>\", line 14, in get_raw_values\n",
      "OSError: [Errno 19] ENODEV\n"
     ]
    }
   ],
   "source": [
    "from machine import SoftI2C\n",
    "from machine import Pin\n",
    "from machine import sleep\n",
    "import _thread\n",
    "#from IPython.display import clear_output\n",
    "i2c1 = SoftI2C(scl=Pin(22), sda=Pin(21))       #initializing the I2C method for ESP8266\n",
    "i2c2 = SoftI2C(scl=Pin(18), sda=Pin(19)) \n",
    "mpu1 = accel(i2c1)\n",
    "mpu2 = accel(i2c2)\n",
    "while True:\n",
    " mpu1.get_values()\n",
    " mpu2.get_values()\n",
    " #clear_output(wait=True)\n",
    " print(\"mpu1: \", mpu1.get_values())\n",
    " print(\"mpu2: \", mpu2.get_values())\n",
    " sleep(500)"
   ]
  },
  {
   "cell_type": "code",
   "execution_count": null,
   "id": "6c9a33ee-fd3a-4c20-b6ca-324035ba59e3",
   "metadata": {},
   "outputs": [],
   "source": []
  }
 ],
 "metadata": {
  "kernelspec": {
   "display_name": "MicroPython - USB",
   "language": "micropython",
   "name": "micropython"
  },
  "language_info": {
   "codemirror_mode": "python",
   "file_extension": ".py",
   "mimetype": "text/python",
   "name": "micropython"
  }
 },
 "nbformat": 4,
 "nbformat_minor": 5
}
