{
 "cells": [
  {
   "cell_type": "code",
   "execution_count": 1,
   "id": "11f3eb18-7f33-4f56-b496-3459b079bfa3",
   "metadata": {},
   "outputs": [
    {
     "data": {
      "image/png": "[encoded data removed]",
      "text/plain": [
       "<Figure size 432x288 with 1 Axes>"
      ]
     },
     "metadata": {
      "needs_background": "light"
     },
     "output_type": "display_data"
    }
   ],
   "source": [
    "\"\"\"\n",
    "Created: 2021-12-21 21:25:34\n",
    "License: MIT, Copyright (c) 2021 Olivier Lenoir\n",
    "Language: Python 3.7.3\n",
    "Project: Test standard score\n",
    "\"\"\"\n",
    "\n",
    "from random import gauss\n",
    "from matplotlib import pyplot as plt\n",
    "\n",
    "# mean\n",
    "MU = 121\n",
    "# standard deviation\n",
    "SIGMA = 15\n",
    "\n",
    "# Gaussian distribution data set\n",
    "data = [gauss(MU, SIGMA) for _ in range(500)]\n",
    "# Standardize data set with standard score\n",
    "data_standard_score = [(x - MU) / SIGMA for x in data]\n",
    "\n",
    "plt.hist(data, 50)\n",
    "plt.hist(data_standard_score, 50)\n",
    "plt.show()"
   ]
  },
  {
   "cell_type": "code",
   "execution_count": null,
   "id": "7f1f317e-0360-4a63-8a6b-24783a90699b",
   "metadata": {},
   "outputs": [],
   "source": []
  }
 ],
 "metadata": {
  "kernelspec": {
   "display_name": "Python 3 (ipykernel)",
   "language": "python",
   "name": "python3"
  },
  "language_info": {
   "codemirror_mode": {
    "name": "ipython",
    "version": 3
   },
   "file_extension": ".py",
   "mimetype": "text/x-python",
   "name": "python",
   "nbconvert_exporter": "python",
   "pygments_lexer": "ipython3",
   "version": "3.9.7"
  }
 },
 "nbformat": 4,
 "nbformat_minor": 5
}
